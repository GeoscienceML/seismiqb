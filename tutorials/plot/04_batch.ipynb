{
 "cells": [
  {
   "cell_type": "code",
   "execution_count": null,
   "metadata": {
    "tags": []
   },
   "outputs": [],
   "source": [
    "%load_ext autoreload\n",
    "%autoreload 2"
   ]
  },
  {
   "cell_type": "code",
   "execution_count": null,
   "metadata": {
    "tags": []
   },
   "outputs": [],
   "source": [
    "import sys\n",
    "import numpy as np\n",
    "\n",
    "sys.path.insert(0, '../../../batchflow')\n",
    "sys.path.insert(0, '../../')\n",
    "\n",
    "from seismiqb import SeismicDataset, HorizonMetrics, SeismicSampler\n",
    "from batchflow import Pipeline, B"
   ]
  },
  {
   "cell_type": "code",
   "execution_count": null,
   "metadata": {
    "tags": []
   },
   "outputs": [],
   "source": [
    "GEOMETRY_PATH = 'cube.blosc'\n",
    "HORIZONS_PATH = 'horizons/*'\n",
    "\n",
    "dataset = SeismicDataset({GEOMETRY_PATH: {'horizons': HORIZONS_PATH}}, interpolate=True)\n",
    "print(dataset)"
   ]
  },
  {
   "cell_type": "code",
   "execution_count": null,
   "metadata": {
    "tags": []
   },
   "outputs": [],
   "source": [
    "field = dataset[0]\n",
    "horizon = field.horizons[0]"
   ]
  },
  {
   "cell_type": "markdown",
   "metadata": {},
   "source": [
    "### Inline/crossline-oriented slices sampling"
   ]
  },
  {
   "cell_type": "code",
   "execution_count": null,
   "metadata": {
    "tags": []
   },
   "outputs": [],
   "source": [
    "CROP_SHAPE = (1, 128, 256)\n",
    "\n",
    "sampler = SeismicSampler(labels=dataset.labels, crop_shape=CROP_SHAPE)\n",
    "\n",
    "sampler.show_sampled()"
   ]
  },
  {
   "cell_type": "code",
   "execution_count": null,
   "metadata": {},
   "outputs": [],
   "source": [
    "def make_horizons_predictions(batch, q=0.95):\n",
    "    predictions = []\n",
    "    for image in batch.images:\n",
    "        val = np.quantile(image, q)\n",
    "        prediction = np.zeros_like(image)\n",
    "        prediction[image > val] = image[image > val] / np.nanmax(image)\n",
    "        predictions.append(prediction)\n",
    "    batch.predictions = np.array(predictions, dtype='object')"
   ]
  },
  {
   "cell_type": "code",
   "execution_count": null,
   "metadata": {},
   "outputs": [],
   "source": [
    "BATCH_SIZE = 32\n",
    "\n",
    "template = (\n",
    "    Pipeline()\n",
    "    .make_locations(generator=sampler, batch_size=BATCH_SIZE)\n",
    "    .load_cubes(dst='images')\n",
    "    .create_masks(dst='masks')\n",
    "    .make_horizons_predictions(B())\n",
    ")\n",
    "pipeline = template << dataset"
   ]
  },
  {
   "cell_type": "code",
   "execution_count": null,
   "metadata": {},
   "outputs": [],
   "source": [
    "batch = pipeline.next_batch()\n",
    "batch.plot()"
   ]
  },
  {
   "cell_type": "code",
   "execution_count": null,
   "metadata": {},
   "outputs": [],
   "source": [
    "batch.plot(dilate=[None, 1, [None, 1], None, 1])"
   ]
  },
  {
   "cell_type": "markdown",
   "metadata": {},
   "source": [
    "### Depth-oriented slices sampling"
   ]
  },
  {
   "cell_type": "code",
   "execution_count": null,
   "metadata": {},
   "outputs": [],
   "source": [
    "CROP_SHAPE = (256, 256, 1)\n",
    "\n",
    "sampler = SeismicSampler(labels=dataset.labels, crop_shape=CROP_SHAPE, threshold=0., mode='horizon', depth_shift=False)\n",
    "\n",
    "sampler.show_sampled()"
   ]
  },
  {
   "cell_type": "code",
   "execution_count": null,
   "metadata": {},
   "outputs": [],
   "source": [
    "def make_facies_masks(batch, threshold=0.5):\n",
    "    masks = []\n",
    "\n",
    "    for image in batch.images:\n",
    "        val = np.quantile(image, threshold)\n",
    "        mask = np.zeros_like(image)\n",
    "        mask = image > val\n",
    "        masks.append(mask)\n",
    "\n",
    "    batch.masks = np.array(masks)\n",
    "    \n",
    "def make_facies_predictions(batch, threshold=0.6):\n",
    "    predictions = []\n",
    "\n",
    "    for image in batch.images:\n",
    "        prediction = np.zeros_like(image)\n",
    "        val = np.quantile(image, threshold)\n",
    "        mask = image > val\n",
    "        min_, max_ = np.nanmin(image[mask]), np.nanmax(image[mask])\n",
    "        prediction[mask] = (image[mask] - min_) / (max_ - min_)\n",
    "        predictions.append(prediction)\n",
    "        \n",
    "    batch.predictions = np.array(predictions)"
   ]
  },
  {
   "cell_type": "code",
   "execution_count": null,
   "metadata": {
    "tags": []
   },
   "outputs": [],
   "source": [
    "BATCH_SIZE = 32\n",
    "\n",
    "template = (\n",
    "    Pipeline()\n",
    "    .make_locations(generator=sampler, batch_size=BATCH_SIZE)\n",
    "    .compute_label_attribute(src='horizons:*/amplitudes', dst='images', fill_value=0)\n",
    "    .make_facies_masks(B())\n",
    "    .make_facies_predictions(B())\n",
    ")\n",
    "pipeline = template << dataset"
   ]
  },
  {
   "cell_type": "code",
   "execution_count": null,
   "metadata": {},
   "outputs": [],
   "source": [
    "batch = pipeline.next_batch()\n",
    "plotter = batch.plot()"
   ]
  },
  {
   "cell_type": "code",
   "execution_count": null,
   "metadata": {
    "scrolled": false,
    "tags": []
   },
   "outputs": [],
   "source": [
    "batch.plot_roll(n=3)"
   ]
  }
 ],
 "metadata": {
  "kernelspec": {
   "display_name": "Python 3 (ipykernel)",
   "language": "python",
   "name": "python3"
  },
  "language_info": {
   "codemirror_mode": {
    "name": "ipython",
    "version": 3
   },
   "file_extension": ".py",
   "mimetype": "text/x-python",
   "name": "python",
   "nbconvert_exporter": "python",
   "pygments_lexer": "ipython3",
   "version": "3.9.10"
  },
  "vscode": {
   "interpreter": {
    "hash": "c6e4e9f98eb68ad3b7c296f83d20e6de614cb42e90992a65aa266555a3137d0d"
   }
  },
  "widgets": {
   "application/vnd.jupyter.widget-state+json": {
    "state": {
     "5705f4ea08ab4e2b9672387f3db22226": {
      "model_module": "@jupyter-widgets/base",
      "model_module_version": "1.2.0",
      "model_name": "LayoutModel",
      "state": {}
     },
     "bf8427636dc54235882bb1de4ea89adc": {
      "model_module": "@jupyter-widgets/output",
      "model_module_version": "1.0.0",
      "model_name": "OutputModel",
      "state": {
       "layout": "IPY_MODEL_5705f4ea08ab4e2b9672387f3db22226"
      }
     }
    },
    "version_major": 2,
    "version_minor": 0
   }
  }
 },
 "nbformat": 4,
 "nbformat_minor": 4
}
