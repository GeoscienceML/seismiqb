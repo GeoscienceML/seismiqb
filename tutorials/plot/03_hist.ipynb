{
 "cells": [
  {
   "cell_type": "code",
   "execution_count": null,
   "metadata": {
    "tags": []
   },
   "outputs": [],
   "source": [
    "%load_ext autoreload\n",
    "%autoreload 2"
   ]
  },
  {
   "cell_type": "code",
   "execution_count": null,
   "metadata": {
    "tags": []
   },
   "outputs": [],
   "source": [
    "import sys\n",
    "import numpy as np\n",
    "\n",
    "sys.path.insert(0, '../../../batchflow')\n",
    "sys.path.insert(0, '../../')\n",
    "\n",
    "from seismiqb import SeismicDataset, Horizon"
   ]
  },
  {
   "cell_type": "code",
   "execution_count": null,
   "metadata": {
    "tags": []
   },
   "outputs": [],
   "source": [
    "GEOMETRY_PATH = 'cube.blosc'\n",
    "HORIZONS_PATH = 'horizons/*'\n",
    "\n",
    "dataset = SeismicDataset({GEOMETRY_PATH: {'horizons': HORIZONS_PATH}}, interpolate=True)\n",
    "print(dataset)"
   ]
  },
  {
   "cell_type": "code",
   "execution_count": null,
   "metadata": {
    "tags": []
   },
   "outputs": [],
   "source": [
    "field = dataset[0]\n",
    "horizon = field.horizons[0]"
   ]
  },
  {
   "cell_type": "markdown",
   "metadata": {},
   "source": [
    "## Field attributes"
   ]
  },
  {
   "cell_type": "markdown",
   "metadata": {},
   "source": [
    "Use `mode='histogram'` to plot histograms for desired field attributes."
   ]
  },
  {
   "cell_type": "code",
   "execution_count": null,
   "metadata": {
    "scrolled": false,
    "tags": []
   },
   "outputs": [],
   "source": [
    "field.show(\n",
    "    attributes=[\n",
    "        'snr',\n",
    "        'horizons:*/depths',\n",
    "        'horizons:*/amplitudes',\n",
    "        'horizons:*/instant_amplitudes'\n",
    "    ],\n",
    "    mode='histogram',\n",
    "    combine='separate',\n",
    "    ncols=2\n",
    ")"
   ]
  },
  {
   "cell_type": "code",
   "execution_count": null,
   "metadata": {
    "tags": []
   },
   "outputs": [],
   "source": [
    "field.show(\n",
    "    attributes=[f'horizons:{i}/depths' for i in range(len(field.horizons))],\n",
    "    mode='histogram',\n",
    "    title_pattern='Depths distribution of {label_name}',\n",
    "    suptitle_size=20, title_size=15, title_wrap_width=100, title_wrap_delimiter=','\n",
    ")"
   ]
  },
  {
   "cell_type": "markdown",
   "metadata": {},
   "source": [
    "## Metrics"
   ]
  },
  {
   "cell_type": "markdown",
   "metadata": {},
   "source": [
    "Some functions, like `horizon.compare` already use `mode='histogram'` under the hood."
   ]
  },
  {
   "cell_type": "code",
   "execution_count": null,
   "metadata": {
    "tags": []
   },
   "outputs": [],
   "source": [
    "def gkern(size, sigma):\n",
    "    x = np.linspace(-(size - 1) / 2., (size - 1) / 2., size)\n",
    "    gauss = np.exp(-0.5 * np.square(x) / np.square(sigma))\n",
    "    kernel = np.outer(gauss, gauss)\n",
    "    return kernel / np.sum(kernel)\n",
    "\n",
    "def add_horizon_anomalies(horizon):\n",
    "    shifts = np.zeros(horizon.matrix.shape, dtype=np.int32)\n",
    "\n",
    "    for _ in range(np.random.randint(10, 20)):\n",
    "        size = np.random.randint(10, 50)\n",
    "        kernel = gkern(size, size * 0.3)\n",
    "        kernel = kernel / kernel.max() * np.random.randint(5, 10)\n",
    "        kernel = np.repeat(kernel, np.random.randint(1,4), axis=np.random.randint(2))\n",
    "        kernel *= np.random.choice([-1, 1])\n",
    "\n",
    "        i, x, h = horizon.points[np.random.choice(len(horizon))]\n",
    "        i_start = i - kernel.shape[0] // 2\n",
    "        i_stop = i_start + kernel.shape[0]\n",
    "        x_start = x - kernel.shape[1] // 2\n",
    "        x_stop = x_start + kernel.shape[1]\n",
    "\n",
    "        if (i_start < 0) or (x_start < 0) or (i_stop > shifts.shape[0]) or (x_stop > shifts.shape[1]):\n",
    "            continue\n",
    "\n",
    "        shifts[i_start : i_stop, x_start : x_stop] += kernel.astype(np.int32)\n",
    "\n",
    "    shifts[horizon.matrix < 0] = horizon.FILL_VALUE\n",
    "\n",
    "    shifted_matrix = horizon.matrix + shifts\n",
    "    shifted = Horizon(shifted_matrix, horizon.field,\n",
    "                      name=f\"shifted {horizon.name}\", i_min=horizon.i_min, x_min=horizon.x_min)\n",
    "    \n",
    "    return shifted"
   ]
  },
  {
   "cell_type": "markdown",
   "metadata": {},
   "source": [
    "Note that additional arguments for histogram might be provided with `hist_` prefix."
   ]
  },
  {
   "cell_type": "code",
   "execution_count": null,
   "metadata": {
    "tags": []
   },
   "outputs": [],
   "source": [
    "anomalous = add_horizon_anomalies(horizon)"
   ]
  },
  {
   "cell_type": "markdown",
   "metadata": {},
   "source": [
    "One can provide parameters for those plots histograms via `hist_kwargs`."
   ]
  },
  {
   "cell_type": "code",
   "execution_count": null,
   "metadata": {
    "scrolled": false,
    "tags": []
   },
   "outputs": [],
   "source": [
    "_ = horizon.compare(\n",
    "    anomalous,\n",
    "    printer=lambda _: None,\n",
    "    ignore_zeros=True,\n",
    "    hist_kwargs=\n",
    "    {\n",
    "        'color': 'lightcoral',\n",
    "        'histogram_log': True,\n",
    "        'histogram_cumulative': -1,\n",
    "        'histogram_histtype': 'step',\n",
    "        'histogram_linewidth': 3,\n",
    "        'histogram_linestyle': '--',\n",
    "        'title': 'Cumulative histogram of horizon depths differences'\n",
    "    }\n",
    ")"
   ]
  }
 ],
 "metadata": {
  "kernelspec": {
   "display_name": "Python 3 (ipykernel)",
   "language": "python",
   "name": "python3"
  },
  "language_info": {
   "codemirror_mode": {
    "name": "ipython",
    "version": 3
   },
   "file_extension": ".py",
   "mimetype": "text/x-python",
   "name": "python",
   "nbconvert_exporter": "python",
   "pygments_lexer": "ipython3",
   "version": "3.9.10"
  },
  "widgets": {
   "application/vnd.jupyter.widget-state+json": {
    "state": {
     "0d898d0fcdd143b5903cf40cbc03ac5a": {
      "model_module": "@jupyter-widgets/base",
      "model_module_version": "1.2.0",
      "model_name": "LayoutModel",
      "state": {}
     },
     "25fe05ee9b1441f3bcc1d2483459bce1": {
      "model_module": "@jupyter-widgets/output",
      "model_module_version": "1.0.0",
      "model_name": "OutputModel",
      "state": {
       "layout": "IPY_MODEL_0d898d0fcdd143b5903cf40cbc03ac5a"
      }
     }
    },
    "version_major": 2,
    "version_minor": 0
   }
  }
 },
 "nbformat": 4,
 "nbformat_minor": 4
}
