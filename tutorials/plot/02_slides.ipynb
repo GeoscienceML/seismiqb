{
 "cells": [
  {
   "cell_type": "code",
   "execution_count": null,
   "metadata": {
    "tags": []
   },
   "outputs": [],
   "source": [
    "%load_ext autoreload\n",
    "%autoreload 2"
   ]
  },
  {
   "cell_type": "code",
   "execution_count": null,
   "metadata": {},
   "outputs": [],
   "source": [
    "import sys\n",
    "import numpy as np\n",
    "from copy import copy\n",
    "\n",
    "sys.path.insert(0, '../../../batchflow')\n",
    "sys.path.insert(0, '../../')\n",
    "\n",
    "from seismiqb import SeismicDataset"
   ]
  },
  {
   "cell_type": "code",
   "execution_count": null,
   "metadata": {
    "tags": []
   },
   "outputs": [],
   "source": [
    "GEOMETRY_PATH = 'cube.blosc'\n",
    "HORIZONS_PATH = 'horizons/*'\n",
    "\n",
    "dataset = SeismicDataset({GEOMETRY_PATH: {'horizons': HORIZONS_PATH}})\n",
    "print(dataset)"
   ]
  },
  {
   "cell_type": "markdown",
   "metadata": {},
   "source": [
    "# Slides"
   ]
  },
  {
   "cell_type": "code",
   "execution_count": null,
   "metadata": {},
   "outputs": [],
   "source": [
    "field = dataset[0]"
   ]
  },
  {
   "cell_type": "code",
   "execution_count": null,
   "metadata": {
    "scrolled": false,
    "tags": []
   },
   "outputs": [],
   "source": [
    "axis = 0\n",
    "line = field.shape[axis] // 2\n",
    "\n",
    "field.show_slide(\n",
    "    line,\n",
    "    axis=axis,\n",
    "    width=10,\n",
    "    alpha=[1.0, 0.5],\n",
    ")"
   ]
  },
  {
   "cell_type": "markdown",
   "metadata": {},
   "source": [
    "One can request same slide directly from field."
   ]
  },
  {
   "cell_type": "code",
   "execution_count": null,
   "metadata": {
    "tags": []
   },
   "outputs": [],
   "source": [
    "field = dataset[0]"
   ]
  },
  {
   "cell_type": "markdown",
   "metadata": {},
   "source": [
    "Use `zoom` to focus on specific slide region."
   ]
  },
  {
   "cell_type": "code",
   "execution_count": null,
   "metadata": {
    "tags": []
   },
   "outputs": [],
   "source": [
    "line_min, line_max = (field.zero_traces.take(line, axis) == 0).nonzero()[0][[0, -1]]\n",
    "line_indent = (line_max - line_min) // 4\n",
    "line_slice = slice(line_min + line_indent, line_max - line_indent)\n",
    "\n",
    "line_depths = field.horizons[0].load_attribute('full_matrix', dtype=np.float32).take(line, axis)[line_slice]\n",
    "depth_min, depth_max = np.nanmin(line_depths).astype(np.int32), np.nanmax(line_depths).astype(np.int32)\n",
    "depth_indent = (depth_max - depth_min) * 4\n",
    "depth_slice = slice(depth_min - depth_indent, depth_max + depth_indent)\n",
    "\n",
    "zoom = (line_slice, depth_slice)\n",
    "\n",
    "field.show_slide(\n",
    "    line,\n",
    "    width=5,\n",
    "    axis=axis,\n",
    "    scale=3,\n",
    "    zoom=zoom,\n",
    "    alpha=[1.0, 0.5],\n",
    ")"
   ]
  },
  {
   "cell_type": "markdown",
   "metadata": {},
   "source": [
    "To display seismic data and horizon mask on separate plots, use `combine='separate'`."
   ]
  },
  {
   "cell_type": "code",
   "execution_count": null,
   "metadata": {
    "tags": []
   },
   "outputs": [],
   "source": [
    "field.show_slide(\n",
    "    line,\n",
    "    axis=axis,\n",
    "    width=5,\n",
    "    scale=3,\n",
    "    zoom=zoom,\n",
    "    combine='separate',\n",
    "    nrows=2,\n",
    ")"
   ]
  }
 ],
 "metadata": {
  "kernelspec": {
   "display_name": "Python 3 (ipykernel)",
   "language": "python",
   "name": "python3"
  },
  "language_info": {
   "codemirror_mode": {
    "name": "ipython",
    "version": 3
   },
   "file_extension": ".py",
   "mimetype": "text/x-python",
   "name": "python",
   "nbconvert_exporter": "python",
   "pygments_lexer": "ipython3",
   "version": "3.9.10"
  },
  "widgets": {
   "application/vnd.jupyter.widget-state+json": {
    "state": {
     "53d386b3bcd74afea7c36e53559dafe2": {
      "model_module": "@jupyter-widgets/output",
      "model_module_version": "1.0.0",
      "model_name": "OutputModel",
      "state": {
       "layout": "IPY_MODEL_f93b678ea46643f4856ed298ead9c76d"
      }
     },
     "f93b678ea46643f4856ed298ead9c76d": {
      "model_module": "@jupyter-widgets/base",
      "model_module_version": "1.2.0",
      "model_name": "LayoutModel",
      "state": {}
     }
    },
    "version_major": 2,
    "version_minor": 0
   }
  }
 },
 "nbformat": 4,
 "nbformat_minor": 4
}
