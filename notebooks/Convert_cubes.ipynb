{
 "cells": [
  {
   "cell_type": "markdown",
   "metadata": {},
   "source": [
    "# Cube conversion\n",
    "\n",
    "This notebooks creates an optimized version of each `SEG-Y` cube.\n",
    "The exact format (`HDF5`, `QHDF5`, `QSGY`) depends on `FORMAT` and `QUANTIZE` parameters.\n",
    "\n",
    "Pseudocode of this notebook looks like:\n",
    "\n",
    "```python\n",
    "for each cube:\n",
    "    mkdir\n",
    "    infer geometry\n",
    "    if SHOW, log to std.out\n",
    "    \n",
    "    convert segy to a desired QUANTIZED FORMAT\n",
    "```\n",
    "\n",
    "* `paths` controls which cubes are converted\n",
    "* `RECREATE` determines whether already converted volumes should be re-converted\n",
    "* `CONVERT` controls whether the cubes should be converted\n",
    "* `FORMAT` and `QUANTIZE` determine the exact format to convert to\n",
    "* `SHOW` allows to control whether results are shown in the notebook itself\n",
    "* `DRY` can be used to check which operations will happen, without actually executing them"
   ]
  },
  {
   "cell_type": "code",
   "execution_count": null,
   "metadata": {
    "tags": []
   },
   "outputs": [],
   "source": [
    "import os\n",
    "import sys\n",
    "import warnings\n",
    "warnings.filterwarnings(\"ignore\")\n",
    "\n",
    "from glob import glob\n",
    "import matplotlib.pyplot as plt\n",
    "\n",
    "sys.path.insert(0, '..')\n",
    "sys.path.insert(0, '../..')\n",
    "from seismiqb import Geometry\n",
    "from batchflow import Notifier"
   ]
  },
  {
   "cell_type": "code",
   "execution_count": null,
   "metadata": {
    "tags": []
   },
   "outputs": [],
   "source": [
    "# Global parameters\n",
    "SEPARATOR = '▆'*60\n",
    "\n",
    "RECREATE = False\n",
    "SHOW = True\n",
    "DRY_RUN = False\n",
    "\n",
    "# Conversion options. Format should be one of {'qsgy', 'hdf5', 'qhdf5'}\n",
    "CONVERT = True\n",
    "FORMAT = 'qsgy'\n",
    "POSTFIX = False\n",
    "QUANTIZE = True\n",
    "CONVERSION_KWARGS = {\n",
    "    # 'chunk_size_divisor' : 3,     # keep smaller chunks in `hdf5`\n",
    "}\n",
    "\n",
    "CUBE = '*_*'"
   ]
  },
  {
   "cell_type": "code",
   "execution_count": null,
   "metadata": {
    "tags": []
   },
   "outputs": [],
   "source": [
    "paths = sorted(glob(f'/data/seismic_data/seismic_interpretation/{CUBE}/*.s*y'))\n",
    "[print(path) for path in paths[:]];"
   ]
  },
  {
   "cell_type": "code",
   "execution_count": null,
   "metadata": {
    "tags": []
   },
   "outputs": [],
   "source": [
    "%%time\n",
    "for path_cube in Notifier('n')(paths[:]):\n",
    "    if not os.path.exists(path_cube):\n",
    "        continue\n",
    "    \n",
    "    # Make an instance with no actual init\n",
    "    geometry = Geometry.new(path=path_cube, init=False)\n",
    "    path_converted = geometry.make_output_path(format=FORMAT, postfix=POSTFIX, quantize=QUANTIZE)\n",
    "\n",
    "    if os.path.exists(path_converted) and not RECREATE:\n",
    "        print(f'{path_converted} already exists, skipping\\n')\n",
    "        continue\n",
    "    if DRY_RUN:\n",
    "        print(f'Will convert ::: {path_cube}\\nto           ::: {path_converted}\\n')\n",
    "        continue\n",
    "\n",
    "    if SHOW:\n",
    "        print(SEPARATOR); print(SEPARATOR);\n",
    "        print('Working with', path_cube)\n",
    "\n",
    "        \n",
    "    # Re-open geometry, collect stats\n",
    "    geometry = Geometry.new(path=path_cube,\n",
    "                            index_headers=Geometry.INDEX_HEADERS_POSTSTACK,\n",
    "                            additional_headers=Geometry.ADDITIONAL_HEADERS_POSTSTACK_FULL,\n",
    "                            reload_headers=True,\n",
    "                            collect_stats=True, recollect_stats=True)\n",
    "    if SHOW:\n",
    "        # Textual\n",
    "        geometry.print()\n",
    "        print()\n",
    "        geometry.print_textual()\n",
    "\n",
    "        # Graphs\n",
    "        geometry.show('snr')\n",
    "        plt.show()\n",
    "\n",
    "\n",
    "    # Conversion\n",
    "    if CONVERT is False:\n",
    "        continue\n",
    "    geometry_converted = geometry.convert(format=FORMAT, postfix=POSTFIX, quantize=QUANTIZE, **CONVERSION_KWARGS)\n",
    "    if SHOW:\n",
    "        geometry_converted.print()\n",
    "    print('\\n'*3)"
   ]
  }
 ],
 "metadata": {
  "kernelspec": {
   "display_name": "Python 3 (ipykernel)",
   "language": "python",
   "name": "python3"
  },
  "language_info": {
   "codemirror_mode": {
    "name": "ipython",
    "version": 3
   },
   "file_extension": ".py",
   "mimetype": "text/x-python",
   "name": "python",
   "nbconvert_exporter": "python",
   "pygments_lexer": "ipython3",
   "version": "3.8.10"
  },
  "widgets": {
   "application/vnd.jupyter.widget-state+json": {
    "state": {},
    "version_major": 2,
    "version_minor": 0
   }
  }
 },
 "nbformat": 4,
 "nbformat_minor": 4
}
