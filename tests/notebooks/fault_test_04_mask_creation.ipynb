{
 "cells": [
  {
   "cell_type": "code",
   "execution_count": null,
   "metadata": {
    "tags": []
   },
   "outputs": [],
   "source": [
    "# Tests for base Fault functionality: initialization, dumping, visualizations, etc.\n",
    "%load_ext autoreload\n",
    "%autoreload 2\n",
    "\n",
    "import os\n",
    "import sys\n",
    "import warnings\n",
    "import numpy as np\n",
    "\n",
    "warnings.filterwarnings('ignore')\n",
    "\n",
    "sys.path.insert(0, '../../../seismiqb')\n",
    "\n",
    "from batchflow import C, Pipeline\n",
    "from seismiqb import Field, Fault, SeismicDataset, SeismicSampler, plot"
   ]
  },
  {
   "cell_type": "code",
   "execution_count": null,
   "metadata": {
    "tags": []
   },
   "outputs": [],
   "source": [
    "\"\"\" You can manage cube and fault for the test:\n",
    "\n",
    "CUBE_PATH : str\n",
    "    Path to an existed seismic cube.\n",
    "FAULT_PATH : str\n",
    "    Path to an existed seismic fault.\n",
    "\"\"\"\n",
    "# Tests parameters\n",
    "OUTPUT_DIR = './fault_test_files'\n",
    "\n",
    "CUBE_PATH = os.path.join(OUTPUT_DIR, 'test_cube.sgy')\n",
    "FAULT_PATH = os.path.join(OUTPUT_DIR, 'test_fault')\n",
    "\n",
    "# Visualization parameters\n",
    "SHOW_FIGURES = True\n",
    "\n",
    "np.random.seed(42)"
   ]
  },
  {
   "cell_type": "markdown",
   "metadata": {},
   "source": [
    "# Initialization"
   ]
  },
  {
   "cell_type": "code",
   "execution_count": null,
   "metadata": {
    "tags": []
   },
   "outputs": [],
   "source": [
    "%%time\n",
    "\n",
    "# ilines sticks\n",
    "field = Field(CUBE_PATH)\n",
    "\n",
    "sticks1 = np.array([\n",
    "    [[100, 100, 25],\n",
    "     [100, 130, 175]],\n",
    "    [[120, 100, 25],\n",
    "     [120, 130, 175]],\n",
    "    [[140, 100, 25],\n",
    "     [140, 130, 175]]\n",
    "])\n",
    "\n",
    "sticks2 = sticks1 + 30"
   ]
  },
  {
   "cell_type": "code",
   "execution_count": null,
   "metadata": {
    "tags": []
   },
   "outputs": [],
   "source": [
    "dataset = SeismicDataset({field: [{'sticks': sticks1}]}, labels_class=Fault)\n",
    "\n",
    "ppl = (dataset.p\n",
    "      .make_locations(batch_size=16, generator=C('sampler'))\n",
    "      .load_cubes(dst='images')\n",
    "      .create_masks(dst='masks', width=C('width', default=3), sparse=C('sparse', default=False))\n",
    ")"
   ]
  },
  {
   "cell_type": "markdown",
   "metadata": {},
   "source": [
    "# Check width"
   ]
  },
  {
   "cell_type": "code",
   "execution_count": null,
   "metadata": {
    "tags": []
   },
   "outputs": [],
   "source": [
    "sampler = SeismicSampler(labels=dataset.labels, crop_shape=(1, 64, 64), mode='fault', threshold=0, extend=False)\n",
    "\n",
    "for width in range(1, 10, 2):\n",
    "    ppl.set_config({'width': width, 'sampler': sampler})\n",
    "    batch = ppl.next_batch()\n",
    "    assert (batch.masks.sum(axis=2) <= width+1).all(), f\"mask is wider then {width}\""
   ]
  },
  {
   "cell_type": "markdown",
   "metadata": {},
   "source": [
    "# Check 3D crops"
   ]
  },
  {
   "cell_type": "code",
   "execution_count": null,
   "metadata": {
    "tags": []
   },
   "outputs": [],
   "source": [
    "dataset = SeismicDataset({field: [{'sticks': s} for s in [sticks1, sticks2]]}, labels_class=Fault)\n",
    "sampler = SeismicSampler(labels=dataset.labels, crop_shape=(64, 64, 64), mode='fault', threshold=0)\n",
    "width = 2\n",
    "\n",
    "ppl.set_dataset(dataset)\n",
    "ppl.set_config({'sampler': sampler, 'width': width})\n",
    "batch = ppl.next_batch()"
   ]
  },
  {
   "cell_type": "code",
   "execution_count": null,
   "metadata": {
    "tags": []
   },
   "outputs": [],
   "source": [
    "plot(batch.masks[0, ..., 20], show=SHOW_FIGURES, colorbar=True)"
   ]
  },
  {
   "cell_type": "code",
   "execution_count": null,
   "metadata": {
    "tags": []
   },
   "outputs": [],
   "source": [
    "ppl.set_config({'sampler': sampler, 'width': width, 'sparse': True})\n",
    "batch = ppl.next_batch()"
   ]
  },
  {
   "cell_type": "code",
   "execution_count": null,
   "metadata": {
    "tags": []
   },
   "outputs": [],
   "source": [
    "plot(batch.masks[0, ..., 20], show=SHOW_FIGURES)"
   ]
  },
  {
   "cell_type": "code",
   "execution_count": null,
   "metadata": {
    "tags": []
   },
   "outputs": [],
   "source": [
    "for i in range(len(batch)):\n",
    "    loc = np.where(batch.masks[i][:, 0, 0] != -1)[0] + batch.locations[i][0].start\n",
    "    assert np.isin(loc, np.concatenate([sticks1[:, 0, 0], sticks2[:, 0, 0]])).all(), \"There are unlabeled slides with points\""
   ]
  }
 ],
 "metadata": {
  "kernelspec": {
   "display_name": "Python 3 (ipykernel)",
   "language": "python",
   "name": "python3"
  },
  "language_info": {
   "codemirror_mode": {
    "name": "ipython",
    "version": 3
   },
   "file_extension": ".py",
   "mimetype": "text/x-python",
   "name": "python",
   "nbconvert_exporter": "python",
   "pygments_lexer": "ipython3",
   "version": "3.8.10"
  },
  "widgets": {
   "application/vnd.jupyter.widget-state+json": {
    "state": {},
    "version_major": 2,
    "version_minor": 0
   }
  }
 },
 "nbformat": 4,
 "nbformat_minor": 4
}
