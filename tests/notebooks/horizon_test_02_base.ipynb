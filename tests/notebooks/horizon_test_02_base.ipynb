{
 "cells": [
  {
   "cell_type": "code",
   "execution_count": null,
   "metadata": {},
   "outputs": [],
   "source": [
    "# Tests for base Horizon functionality: initialization, dumping, visualizations, etc.\n",
    "import os\n",
    "import sys\n",
    "import warnings\n",
    "import numpy as np\n",
    "\n",
    "warnings.filterwarnings('ignore')\n",
    "\n",
    "sys.path.insert(0, '../../../seismiqb')\n",
    "\n",
    "from seismiqb import Field, Horizon"
   ]
  },
  {
   "cell_type": "code",
   "execution_count": null,
   "metadata": {},
   "outputs": [],
   "source": [
    "\"\"\" You can manage cube and horizon for the test:\n",
    "\n",
    "CUBE_PATH : str\n",
    "    Path to an existed seismic cube.\n",
    "HORIZON_PATH : str\n",
    "    Path to an existed seismic horizon.\n",
    "\"\"\"\n",
    "# Tests parameters\n",
    "OUTPUT_DIR = './horizon_test_files'\n",
    "\n",
    "CUBE_PATH = os.path.join(OUTPUT_DIR, 'test_cube.sgy')\n",
    "HORIZON_PATH = os.path.join(OUTPUT_DIR, 'test_horizon')\n",
    "\n",
    "# Visualization parameters\n",
    "SCALE = 1\n",
    "SHOW_FIGURES = True"
   ]
  },
  {
   "cell_type": "markdown",
   "metadata": {},
   "source": [
    "# Initialization"
   ]
  },
  {
   "cell_type": "code",
   "execution_count": null,
   "metadata": {},
   "outputs": [],
   "source": [
    "%%time\n",
    "field = Field(CUBE_PATH)\n",
    "horizon = Horizon(HORIZON_PATH, field=field)\n",
    "horizon.filter()\n",
    "\n",
    "horizon.show(show=SHOW_FIGURES, scale=SCALE)"
   ]
  },
  {
   "cell_type": "code",
   "execution_count": null,
   "metadata": {},
   "outputs": [],
   "source": [
    "%%time\n",
    "# from_points init\n",
    "new_horizon = Horizon(storage=horizon.points, field=horizon.field, name='tester')\n",
    "\n",
    "assert horizon.equal(new_horizon), f\"`from_points` initialization test failed: original and initialized horizons are unequal\""
   ]
  },
  {
   "cell_type": "code",
   "execution_count": null,
   "metadata": {},
   "outputs": [],
   "source": [
    "%%time\n",
    "# from_matrix init\n",
    "new_horizon = Horizon(storage=horizon.matrix, i_min=horizon.i_min, x_min=horizon.x_min,\n",
    "                      field=horizon.field, name='tester')\n",
    "\n",
    "assert horizon.equal(new_horizon), f\"`from_matrix` initialization test failed: original and initialized horizons are unequal\""
   ]
  },
  {
   "cell_type": "code",
   "execution_count": null,
   "metadata": {},
   "outputs": [],
   "source": [
    "%%time\n",
    "# from_full_matrix init\n",
    "new_horizon = Horizon(storage=horizon.full_matrix, field=horizon.field, name='tester')\n",
    "\n",
    "assert horizon.equal(new_horizon), f\"`from_full_matrix` initialization test failed: original and initialized horizons are unequal\""
   ]
  },
  {
   "cell_type": "code",
   "execution_count": null,
   "metadata": {},
   "outputs": [],
   "source": [
    "%%time\n",
    "# from_dict\n",
    "horizon_dict = {}\n",
    "for k, v in zip(horizon.points[:, :2], horizon.points[:, 2]):\n",
    "    horizon_dict[tuple(k)] = v\n",
    "\n",
    "new_horizon = Horizon(storage=horizon_dict, transform=False, field=horizon.field, name='tester')\n",
    "\n",
    "assert horizon.equal(new_horizon), f\"`from_dict` initialization test failed: original and initialized horizons are unequal\""
   ]
  },
  {
   "cell_type": "markdown",
   "metadata": {},
   "source": [
    "# Dump"
   ]
  },
  {
   "cell_type": "code",
   "execution_count": null,
   "metadata": {},
   "outputs": [],
   "source": [
    "dump_path = os.path.join(OUTPUT_DIR, 'tmp_horizon')"
   ]
  },
  {
   "cell_type": "code",
   "execution_count": null,
   "metadata": {},
   "outputs": [],
   "source": [
    "%%time\n",
    "# dump\n",
    "horizon.dump(path=dump_path)\n",
    "\n",
    "dumped_horizon = Horizon(storage=dump_path, field=field)\n",
    "\n",
    "assert horizon.equal(new_horizon), f\"`dump` test failed: original and dumped horizons are unequal\"\n",
    "\n",
    "os.remove(dump_path)"
   ]
  },
  {
   "cell_type": "code",
   "execution_count": null,
   "metadata": {},
   "outputs": [],
   "source": [
    "%%time\n",
    "# dump_float\n",
    "max_depth_difference = 2\n",
    "horizon.dump_float(path=dump_path, max_depth_difference=max_depth_difference)\n",
    "\n",
    "dumped_horizon = Horizon(storage=dump_path, field=field)\n",
    "\n",
    "error_message = \"`dump_float` test failed: original and dumped horizons are not close\"\n",
    "assert np.allclose(horizon.points, dumped_horizon.points, atol=max_depth_difference), error_message\n",
    "\n",
    "os.remove(dump_path)"
   ]
  },
  {
   "cell_type": "markdown",
   "metadata": {},
   "source": [
    "# Base methods"
   ]
  },
  {
   "cell_type": "code",
   "execution_count": null,
   "metadata": {},
   "outputs": [],
   "source": [
    "%%time\n",
    "horizon_points = Horizon.matrix_to_points(matrix=horizon.matrix)\n",
    "\n",
    "# Shift (it exists in methods that call `matrix_to_points`)\n",
    "horizon_points[:, 0] += horizon.i_min\n",
    "horizon_points[:, 1] += horizon.x_min\n",
    "\n",
    "error_message = \"`matrix_to_points` test failed: original and extracted points are not equal\"\n",
    "assert np.array_equal(horizon.points, horizon_points), error_message"
   ]
  },
  {
   "cell_type": "code",
   "execution_count": null,
   "metadata": {},
   "outputs": [],
   "source": [
    "%%time\n",
    "horizon_matrix = Horizon.points_to_matrix(points=horizon.points, i_min=horizon.i_min, x_min=horizon.x_min,\n",
    "                                          i_length=horizon.i_length, x_length=horizon.x_length)\n",
    "\n",
    "error_message = \"`points_to_matrix` test failed: original and extracted matrices are not equal\"\n",
    "assert np.array_equal(horizon.matrix, horizon_matrix), error_message"
   ]
  },
  {
   "cell_type": "markdown",
   "metadata": {},
   "source": [
    "# Evaluate"
   ]
  },
  {
   "cell_type": "code",
   "execution_count": null,
   "metadata": {},
   "outputs": [],
   "source": [
    "%%time\n",
    "_ = horizon.evaluate(scale=SCALE, bad_color='black')"
   ]
  },
  {
   "cell_type": "markdown",
   "metadata": {},
   "source": [
    "# Get values"
   ]
  },
  {
   "cell_type": "code",
   "execution_count": null,
   "metadata": {
    "tags": []
   },
   "outputs": [],
   "source": [
    "%%time\n",
    "for axis in range(2):\n",
    "    index = horizon.shape[axis] // 2\n",
    "    _ = horizon.load_slide(index=index, axis=axis)\n",
    "\n",
    "    horizon.show_slide(index=index, axis=axis, width=5, combine='separate',\n",
    "                       cmap=['gray', 'viridis'], grid=False,\n",
    "                       scale=SCALE, show=SHOW_FIGURES)"
   ]
  },
  {
   "cell_type": "markdown",
   "metadata": {},
   "source": [
    "# get_cube_values"
   ]
  },
  {
   "cell_type": "code",
   "execution_count": null,
   "metadata": {
    "tags": []
   },
   "outputs": [],
   "source": [
    "%%time\n",
    "# Make a flat horizon in the cube\n",
    "depth = field.shape[-1] // 2\n",
    "window = 2 * (field.shape[-1] // 40) + 1 # must be an odd value\n",
    "\n",
    "constant_matrix = np.ones_like(horizon.full_matrix) * depth\n",
    "\n",
    "constant_horizon = Horizon(constant_matrix, i_min=0, x_min=0,\n",
    "                           field=horizon.field, name='const')\n",
    "\n",
    "# Get values along constant horizon\n",
    "horizon_values = constant_horizon.get_cube_values(window=window)\n",
    "horizon_values = np.nan_to_num(horizon_values, constant_horizon.FILL_VALUE)\n",
    "\n",
    "# Get values from the cube\n",
    "geometry_values = field.geometry[:, :, depth-window//2:depth+window//2+1]\n",
    "\n",
    "error_message = \"`get_cube_values` test failed: original and extracted values are not equal\"\n",
    "assert np.allclose(horizon_values[constant_horizon.mask],\n",
    "                   geometry_values[constant_horizon.mask]), error_message"
   ]
  },
  {
   "cell_type": "markdown",
   "metadata": {},
   "source": [
    "# Operations with FILL_VALUE"
   ]
  },
  {
   "cell_type": "code",
   "execution_count": null,
   "metadata": {
    "tags": []
   },
   "outputs": [],
   "source": [
    "%%time\n",
    "# Change fill_value to a new one\n",
    "horizon_copy = horizon.copy()\n",
    "new_fill_value = -10\n",
    "\n",
    "# New and old fill_values amount before filling\n",
    "n_fill_value = np.sum(horizon_copy.matrix == new_fill_value)\n",
    "n_absent = np.sum(horizon_copy.matrix == horizon_copy.FILL_VALUE)\n",
    "\n",
    "horizon_copy.matrix_fill_to_num(matrix=horizon_copy.matrix, value=new_fill_value)\n",
    "\n",
    "# New fill_values amount after filling\n",
    "n_new_fill_value = np.sum(horizon_copy.matrix == new_fill_value)\n",
    "\n",
    "error_message = \"`matrix_fill_to_num` test failed: unexpected amount of points with new fill value\"\n",
    "assert n_new_fill_value == n_fill_value + n_absent, error_message"
   ]
  },
  {
   "cell_type": "code",
   "execution_count": null,
   "metadata": {
    "tags": []
   },
   "outputs": [],
   "source": [
    "%%time\n",
    "# Reverse filling: new fill_value to old\n",
    "horizon_copy.matrix_num_to_fill(matrix=horizon_copy.matrix, value=new_fill_value)\n",
    "\n",
    "n_restored_fill_value = np.sum(horizon_copy.matrix == horizon_copy.FILL_VALUE)\n",
    "\n",
    "error_message = \"`matrix_num_to_fill` test failed: unexpected amount of points with restored fill value\"\n",
    "assert n_restored_fill_value == n_new_fill_value, error_message"
   ]
  },
  {
   "cell_type": "markdown",
   "metadata": {},
   "source": [
    "# Matrix normalization"
   ]
  },
  {
   "cell_type": "code",
   "execution_count": null,
   "metadata": {
    "tags": []
   },
   "outputs": [],
   "source": [
    "%%time\n",
    "# Min-max\n",
    "horizon_copy = horizon.copy()\n",
    "\n",
    "normalized_matrix = horizon_copy.matrix_normalize(matrix=horizon_copy.full_matrix, mode='min-max')\n",
    "\n",
    "error_msg = \"'min-max' matrix normalization test failed: matrix values are not in [0, 1] interval\"\n",
    "assert np.isclose(np.nanmin(normalized_matrix[horizon_copy.mask]), 0), error_msg\n",
    "assert np.isclose(np.nanmax(normalized_matrix[horizon_copy.mask]), 1), error_msg\n",
    "\n",
    "# Mean-std\n",
    "horizon_copy = horizon.copy()\n",
    "\n",
    "normalized_matrix = horizon_copy.matrix_normalize(matrix=horizon_copy.full_matrix, mode='mean-std')\n",
    "\n",
    "error_msg = \"'mean-std' matrix normalization test failed: matrix values are not in [0, 1] interval\"\n",
    "assert np.isclose(np.nanmean(normalized_matrix[horizon_copy.mask]), 0), error_msg\n",
    "assert np.isclose(np.nanstd(normalized_matrix[horizon_copy.mask]), 1), error_msg"
   ]
  }
 ],
 "metadata": {
  "kernelspec": {
   "display_name": "Python 3 (ipykernel)",
   "language": "python",
   "name": "python3"
  },
  "language_info": {
   "codemirror_mode": {
    "name": "ipython",
    "version": 3
   },
   "file_extension": ".py",
   "mimetype": "text/x-python",
   "name": "python",
   "nbconvert_exporter": "python",
   "pygments_lexer": "ipython3",
   "version": "3.8.10"
  },
  "widgets": {
   "application/vnd.jupyter.widget-state+json": {
    "state": {},
    "version_major": 2,
    "version_minor": 0
   }
  }
 },
 "nbformat": 4,
 "nbformat_minor": 4
}
