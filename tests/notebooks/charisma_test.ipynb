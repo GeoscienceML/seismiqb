{
 "cells": [
  {
   "cell_type": "code",
   "execution_count": null,
   "metadata": {},
   "outputs": [],
   "source": [
    "# This file contains tests for `CharismaMixin`\n",
    "import os\n",
    "import sys\n",
    "import shutil\n",
    "import warnings\n",
    "warnings.filterwarnings('ignore')\n",
    "\n",
    "import numpy as np\n",
    "\n",
    "sys.path.insert(0, '../../../seismiqb')\n",
    "\n",
    "from seismiqb import Field, array_to_segy"
   ]
  },
  {
   "cell_type": "code",
   "execution_count": null,
   "metadata": {
    "tags": []
   },
   "outputs": [],
   "source": [
    "# Defaults for run this notebook directly\n",
    "# Data creation parameters\n",
    "CUBE_SHAPE = (100, 100, 100)\n",
    "SEED = 42"
   ]
  },
  {
   "cell_type": "markdown",
   "metadata": {
    "tags": []
   },
   "source": [
    "# Preparation: workspace and fake data creation"
   ]
  },
  {
   "cell_type": "markdown",
   "metadata": {},
   "source": [
    "**Storage structure:**\n",
    "___\n",
    "\n",
    "\n",
    "\n",
    "**charisma_test_files** (charisma tests directory with temporary files)\n",
    "\n",
    "&emsp;├── **test_array.npy** (Test cube data, now it is a random noise)\n",
    "\n",
    "&emsp;├── **test_cube.sgy** (Test cube data in the sgy format)\n",
    "\n",
    "&emsp;├── **test_cube.meta** (Meta data of the test cube)\n",
    "    \n",
    "&emsp;├── **test_matrix** (Saved test matrix)\n",
    "\n",
    "&emsp;└── **test_points** (Saved test points)\n"
   ]
  },
  {
   "cell_type": "code",
   "execution_count": null,
   "metadata": {},
   "outputs": [],
   "source": [
    "# (Re)create the test directory\n",
    "OUTPUT_DIR = './charisma_test_files'\n",
    "\n",
    "if os.path.exists(OUTPUT_DIR):\n",
    "    shutil.rmtree(OUTPUT_DIR)\n",
    "\n",
    "os.makedirs(OUTPUT_DIR)"
   ]
  },
  {
   "cell_type": "code",
   "execution_count": null,
   "metadata": {},
   "outputs": [],
   "source": [
    "%%time\n",
    "# Create a fake cube\n",
    "CUBE_PATH = os.path.join(OUTPUT_DIR, 'test_cube.sgy')\n",
    "\n",
    "rng = np.random.default_rng(SEED)\n",
    "data_array = rng.normal(0, 1000, CUBE_SHAPE).astype(np.float32)\n",
    "\n",
    "with open(os.path.join(OUTPUT_DIR, 'test_array.npy'), 'wb') as outfile:\n",
    "    np.save(outfile, data_array)\n",
    "\n",
    "array_to_segy(array_like=data_array, path=CUBE_PATH, zip_segy=False, pbar='t')"
   ]
  },
  {
   "cell_type": "code",
   "execution_count": null,
   "metadata": {},
   "outputs": [],
   "source": [
    "%%time\n",
    "# Init a field\n",
    "field = Field(geometry=CUBE_PATH)"
   ]
  },
  {
   "cell_type": "markdown",
   "metadata": {},
   "source": [
    "# Tests"
   ]
  },
  {
   "cell_type": "code",
   "execution_count": null,
   "metadata": {},
   "outputs": [],
   "source": [
    "%%time\n",
    "# Test dump_charisma, load_charisma and is_charisma_like (matrix case)\n",
    "# Create and dump a random matrix\n",
    "matrix = rng.integers(low=0, high=10, size=CUBE_SHAPE[:2])\n",
    "\n",
    "matrix_path=os.path.join(OUTPUT_DIR, 'test_matrix')\n",
    "\n",
    "field.dump_charisma(data=matrix, path=matrix_path, format='matrix', name='saved_matrix')\n",
    "\n",
    "# Check is_charisma_like\n",
    "assert field.is_charisma_like(matrix_path), \"Dumping matrix test: the dumped matrix file is not charisma-like.\"\n",
    "\n",
    "# Open saved data\n",
    "opened_matrix = field.load_charisma(path=matrix_path, format='matrix')\n",
    "\n",
    "assert np.array_equal(matrix, opened_matrix), \"Dumping matrix test: saved and loaded matrices are not the same.\""
   ]
  },
  {
   "cell_type": "code",
   "execution_count": null,
   "metadata": {
    "tags": []
   },
   "outputs": [],
   "source": [
    "%%time\n",
    "# Test dump_charisma, load_charisma and is_charisma_like (points case)\n",
    "# Create random points in the field\n",
    "i_lines, x_lines = np.mgrid[0:CUBE_SHAPE[0], 0:CUBE_SHAPE[1]]\n",
    "\n",
    "points_column_shape = (i_lines.size, 1)\n",
    "i_lines, x_lines = i_lines.reshape(points_column_shape), x_lines.reshape(points_column_shape)\n",
    "\n",
    "depths = rng.integers(low=0, high=10, size=points_column_shape)\n",
    "\n",
    "points = np.hstack([i_lines, x_lines, depths])\n",
    "\n",
    "# Save points as charisma\n",
    "points_path=os.path.join(OUTPUT_DIR, 'test_points')\n",
    "\n",
    "field.dump_charisma(data=points, path=points_path, format='points', name='saved_points')\n",
    "\n",
    "# Check is_charisma_like\n",
    "assert field.is_charisma_like(points_path), \"Dumping points test: the dumped points file is not charisma-like.\"\n",
    "\n",
    "# Open saved data\n",
    "opened_points = field.load_charisma(path=points_path, format='points')\n",
    "\n",
    "assert np.array_equal(points, opened_points), \"Dumping points test: saved and loaded points arrays are not the same.\""
   ]
  }
 ],
 "metadata": {
  "kernelspec": {
   "display_name": "Python 3 (ipykernel)",
   "language": "python",
   "name": "python3"
  },
  "language_info": {
   "codemirror_mode": {
    "name": "ipython",
    "version": 3
   },
   "file_extension": ".py",
   "mimetype": "text/x-python",
   "name": "python",
   "nbconvert_exporter": "python",
   "pygments_lexer": "ipython3",
   "version": "3.8.10"
  },
  "widgets": {
   "application/vnd.jupyter.widget-state+json": {
    "state": {},
    "version_major": 2,
    "version_minor": 0
   }
  }
 },
 "nbformat": 4,
 "nbformat_minor": 4
}
