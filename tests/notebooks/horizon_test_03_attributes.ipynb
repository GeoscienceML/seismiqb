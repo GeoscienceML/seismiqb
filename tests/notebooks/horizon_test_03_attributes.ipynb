{
 "cells": [
  {
   "cell_type": "code",
   "execution_count": null,
   "metadata": {},
   "outputs": [],
   "source": [
    "# Tests Horizon attributes and properties: loading and show\n",
    "import os\n",
    "import sys\n",
    "import warnings\n",
    "import numpy as np\n",
    "\n",
    "warnings.filterwarnings('ignore')\n",
    "\n",
    "sys.path.insert(0, '../../../seismiqb')\n",
    "\n",
    "from seismiqb import Field, Horizon"
   ]
  },
  {
   "cell_type": "code",
   "execution_count": null,
   "metadata": {},
   "outputs": [],
   "source": [
    "\"\"\" You can manage cube and horizon for the test:\n",
    "\n",
    "CUBE_PATH : str\n",
    "    Path to an existed seismic cube.\n",
    "HORIZON_PATH : str\n",
    "    Path to an existed seismic horizon.\n",
    "    \n",
    "Also, you can change attributes to check with:\n",
    "\n",
    "ATTRIBUTES_LIST : list of str\n",
    "    List of attributes names to use in tests.\n",
    "\"\"\"\n",
    "# Tests parameters\n",
    "OUTPUT_DIR = './horizon_test_files'\n",
    "\n",
    "CUBE_PATH = os.path.join(OUTPUT_DIR, 'test_cube.sgy')\n",
    "HORIZON_PATH = os.path.join(OUTPUT_DIR, 'test_horizon')\n",
    "\n",
    "ATTRIBUTES_LIST = ['amplitudes', 'depths', 'instant_phases',\n",
    "                   'instant_amplitudes', 'fourier', 'wavelet', 'mask']\n",
    "\n",
    "# Visualization parameters\n",
    "SCALE = 1\n",
    "SHOW_FIGURES = True"
   ]
  },
  {
   "cell_type": "code",
   "execution_count": null,
   "metadata": {},
   "outputs": [],
   "source": [
    "%%time\n",
    "field = Field(CUBE_PATH)\n",
    "horizon = Horizon(HORIZON_PATH, field=field)\n",
    "horizon.filter()\n",
    "\n",
    "horizon.show(show=SHOW_FIGURES)"
   ]
  },
  {
   "cell_type": "markdown",
   "metadata": {},
   "source": [
    "# Properties"
   ]
  },
  {
   "cell_type": "code",
   "execution_count": null,
   "metadata": {},
   "outputs": [],
   "source": [
    "%%time\n",
    "_ = horizon.binary_matrix\n",
    "_ = horizon.mask\n",
    "_ = horizon.borders_matrix\n",
    "_ = horizon.boundaries_matrix\n",
    "_ = horizon.filled_matrix"
   ]
  },
  {
   "cell_type": "markdown",
   "metadata": {},
   "source": [
    "# Get attributes"
   ]
  },
  {
   "cell_type": "code",
   "execution_count": null,
   "metadata": {
    "tags": []
   },
   "outputs": [],
   "source": [
    "%%time\n",
    "for side in [-1, 1]:\n",
    "    _ = horizon.get_zerocrossings(side=side)\n",
    "    print(f\"`get_zerocrossings` with {side} side was successfully checked.\")"
   ]
  },
  {
   "cell_type": "code",
   "execution_count": null,
   "metadata": {},
   "outputs": [],
   "source": [
    "%%time\n",
    "_ = horizon.get_median_diff_map()\n",
    "_ = horizon.get_gradient_map()\n",
    "_ = horizon.get_spikes_mask()"
   ]
  },
  {
   "cell_type": "markdown",
   "metadata": {},
   "source": [
    "# Loading attributes"
   ]
  },
  {
   "cell_type": "code",
   "execution_count": null,
   "metadata": {},
   "outputs": [],
   "source": [
    "%%time\n",
    "metrics = horizon.load_attribute('metrics', metric='local_corrs', normalize='min-max')"
   ]
  },
  {
   "cell_type": "code",
   "execution_count": null,
   "metadata": {
    "tags": []
   },
   "outputs": [],
   "source": [
    "%%time\n",
    "horizon.show(ATTRIBUTES_LIST, combine='separate', ncols=2, scale=SCALE, show=SHOW_FIGURES)"
   ]
  }
 ],
 "metadata": {
  "kernelspec": {
   "display_name": "Python 3 (ipykernel)",
   "language": "python",
   "name": "python3"
  },
  "language_info": {
   "codemirror_mode": {
    "name": "ipython",
    "version": 3
   },
   "file_extension": ".py",
   "mimetype": "text/x-python",
   "name": "python",
   "nbconvert_exporter": "python",
   "pygments_lexer": "ipython3",
   "version": "3.8.10"
  },
  "widgets": {
   "application/vnd.jupyter.widget-state+json": {
    "state": {},
    "version_major": 2,
    "version_minor": 0
   }
  }
 },
 "nbformat": 4,
 "nbformat_minor": 4
}
