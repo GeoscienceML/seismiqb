{
 "cells": [
  {
   "cell_type": "code",
   "execution_count": null,
   "metadata": {},
   "outputs": [],
   "source": [
    "# This file contains the template and good practices for creating new test notebooks\n",
    "# First recommendation is to write a comment with a short notebook description and important notes on the top of the first cell\n",
    "# Under the comment write all necessary imports\n",
    "import os\n",
    "import sys\n",
    "import shutil\n",
    "import warnings\n",
    "warnings.filterwarnings('ignore')\n",
    "\n",
    "import numpy as np\n",
    "\n",
    "sys.path.insert(0, '../../../seismiqb')\n",
    "\n",
    "from seismiqb import SeismicGeometry\n",
    "from seismiqb.geometry import export"
   ]
  },
  {
   "cell_type": "code",
   "execution_count": null,
   "metadata": {},
   "outputs": [],
   "source": [
    "# The second cell contains all changeable parameters\n",
    "# Overwritten values are placed between the second and the third cells, so we need to set defaults here\n",
    "\"\"\" If there are some important parameters in the notebook, then you should write a docstring with them here. \"\"\"\n",
    "# Data creation parameters\n",
    "CUBE_SHAPE = (100, 100, 100)\n",
    "SEED = 42"
   ]
  },
  {
   "cell_type": "markdown",
   "metadata": {
    "tags": []
   },
   "source": [
    "# Preparation: workspace and fake data creation"
   ]
  },
  {
   "cell_type": "markdown",
   "metadata": {},
   "source": [
    "Usually, tests start with preparation steps: we **create a workspace and fake data** for running tests on it.\n",
    "\n",
    "It would be good if you add with a **short description of the storage structure**. It is useful in the case when a test operates with a large number of files.\n",
    "Also, the description clarifies what is stored in each file."
   ]
  },
  {
   "cell_type": "markdown",
   "metadata": {},
   "source": [
    "**Storage structure:**\n",
    "___\n",
    "\n",
    "\n",
    "\n",
    "**template_test_files** (TESTS_NAME tests directory with temporary files)\n",
    "\n",
    "&emsp;├── **test_array.npy** (Test cube data, now it is a random noise)\n",
    "\n",
    "&emsp;├── **test_cube.sgy** (Test cube created from the `test_array.npy` data)\n",
    "\n",
    "&emsp;└── **test_cube.meta** (`test_cube.sgy` meta file)\n"
   ]
  },
  {
   "cell_type": "markdown",
   "metadata": {},
   "source": [
    "If the test saves any data, then it must start by creating its' **own saving directory**:  it helps to avoid mixing up files between different tests.\n",
    "\n",
    "The next cell is placed in every test notebook that works with data dumps.\n",
    "\n",
    "**Note**, that it is important to **use relative paths**: all directories and files created in tests are saved in a new directory which is created by the `run_notebook_test.py`."
   ]
  },
  {
   "cell_type": "code",
   "execution_count": null,
   "metadata": {},
   "outputs": [],
   "source": [
    "# (Re)create the test directory\n",
    "OUTPUT_DIR = './template_test_files'\n",
    "\n",
    "if os.path.exists(OUTPUT_DIR):\n",
    "    shutil.rmtree(OUTPUT_DIR)\n",
    "\n",
    "os.makedirs(OUTPUT_DIR)"
   ]
  },
  {
   "cell_type": "markdown",
   "metadata": {},
   "source": [
    "**After that you can do everything you need.**\n",
    "\n",
    "Some examples and other good practices:"
   ]
  },
  {
   "cell_type": "code",
   "execution_count": null,
   "metadata": {},
   "outputs": [],
   "source": [
    "%%time\n",
    "# Example of fake data creation\n",
    "CUBE_PATH = os.path.join(OUTPUT_DIR, 'test_cube.sgy')\n",
    "\n",
    "rng = np.random.default_rng(SEED)\n",
    "data_array = rng.normal(0, 1000, CUBE_SHAPE).astype(np.float32)\n",
    "\n",
    "with open(os.path.join(OUTPUT_DIR, 'test_array.npy'), 'wb') as outfile:\n",
    "    np.save(outfile, data_array)\n",
    "\n",
    "export.make_segy_from_array(array=data_array, path_segy=CUBE_PATH, zip_segy=False,\n",
    "                            sample_rate=2., delay=50, pbar='t')"
   ]
  },
  {
   "cell_type": "markdown",
   "metadata": {},
   "source": [
    "# Tests"
   ]
  },
  {
   "cell_type": "markdown",
   "metadata": {},
   "source": [
    "The following code is a **simple test** that checks that saved and loaded data are the same."
   ]
  },
  {
   "cell_type": "code",
   "execution_count": null,
   "metadata": {},
   "outputs": [],
   "source": [
    "# Test example\n",
    "geometry = SeismicGeometry(path=CUBE_PATH)\n",
    "\n",
    "error_message = \"Fake data creation test failed: original and loaded data are not the same\"\n",
    "assert np.allclose(data_array, geometry[:, :, :]), error_message"
   ]
  },
  {
   "cell_type": "markdown",
   "metadata": {},
   "source": [
    "Advice for tests is to **write quite clear and detailed error messages in assertions**. In the error case all of them are printed in the cell output in the notebook and in the terminal output if you run tests from the `run_notebook_test.py` script.\n",
    "These messages are helpful in finding out the reason for tests failure.\n",
    "\n",
    "\n",
    "The last advice is to **split huge test notebooks** into separate notebooks for convenient tests usage."
   ]
  }
 ],
 "metadata": {
  "kernelspec": {
   "display_name": "Python 3 (ipykernel)",
   "language": "python",
   "name": "python3"
  },
  "language_info": {
   "codemirror_mode": {
    "name": "ipython",
    "version": 3
   },
   "file_extension": ".py",
   "mimetype": "text/x-python",
   "name": "python",
   "nbconvert_exporter": "python",
   "pygments_lexer": "ipython3",
   "version": "3.8.10"
  }
 },
 "nbformat": 4,
 "nbformat_minor": 4
}
