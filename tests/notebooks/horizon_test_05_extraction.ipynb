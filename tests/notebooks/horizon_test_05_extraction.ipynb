{
 "cells": [
  {
   "cell_type": "code",
   "execution_count": null,
   "metadata": {},
   "outputs": [],
   "source": [
    "# Tests for methods that merge horizons\n",
    "import os\n",
    "import sys\n",
    "import warnings\n",
    "import math\n",
    "import numpy as np\n",
    "\n",
    "warnings.filterwarnings('ignore')\n",
    "\n",
    "sys.path.insert(0, '../..')\n",
    "\n",
    "from seismiqb import Field, Horizon, plot"
   ]
  },
  {
   "cell_type": "code",
   "execution_count": null,
   "metadata": {
    "tags": []
   },
   "outputs": [],
   "source": [
    "\"\"\" You can manage cube and horizon for the test:\n",
    "\n",
    "CUBE_PATH : str\n",
    "    Path to an existed seismic cube.\n",
    "HORIZON_PATH : str\n",
    "    Path to an existed seismic horizon.\n",
    "\"\"\"\n",
    "# Tests parameters\n",
    "OUTPUT_DIR = './horizon_test_files'\n",
    "\n",
    "CUBE_PATH = os.path.join(OUTPUT_DIR, 'test_cube.sgy')\n",
    "HORIZON_PATH = os.path.join(OUTPUT_DIR, 'test_horizon')\n",
    "\n",
    "# Visualization parameters\n",
    "SCALE = 1\n",
    "SHOW_FIGURES = True\n",
    "\n",
    "# Output parameters\n",
    "VERBOSE = True"
   ]
  },
  {
   "cell_type": "code",
   "execution_count": null,
   "metadata": {
    "tags": []
   },
   "outputs": [],
   "source": [
    "%%time\n",
    "field = Field(CUBE_PATH)\n",
    "\n",
    "horizon = Horizon(HORIZON_PATH, field=field)\n",
    "horizon.filter()\n",
    "field.load_labels({'horizons': horizon})\n",
    "\n",
    "horizon.show(show=SHOW_FIGURES)\n",
    "\n",
    "message = \"\""
   ]
  },
  {
   "cell_type": "markdown",
   "metadata": {},
   "source": [
    "# Merge two horizons"
   ]
  },
  {
   "cell_type": "code",
   "execution_count": null,
   "metadata": {},
   "outputs": [],
   "source": [
    "configs = [\n",
    "#   (first horizon border, second horizon border, verify_merge code)\n",
    "    (len(horizon.points)//2, len(horizon.points)//2-len(horizon.points)//10, 4),        # overlapped\n",
    "    (len(horizon.points)//10, len(horizon.points)//10, 3),                              # close without overlap\n",
    "    (len(horizon.points)//10, len(horizon.points)//2, 1),                               # spatially far\n",
    "    (len(horizon.points)//10, len(horizon.points)//10-len(horizon.points)//20, 0)       # for height-wise far\n",
    "]"
   ]
  },
  {
   "cell_type": "code",
   "execution_count": null,
   "metadata": {
    "tags": []
   },
   "outputs": [],
   "source": [
    "%%time\n",
    "# Horizon.*_merge methods\n",
    "\n",
    "for (border_1, border_2, code) in configs:\n",
    "    # Create new horizons\n",
    "    horizon_1 = Horizon(horizon.points[:border_1, :], field=field, name='horizon_1')\n",
    "    horizon_2 = Horizon(horizon.points[border_2:, :], field=field, name='horizon_2')\n",
    "\n",
    "    if code == 0: # Make horizons height-wise far\n",
    "        horizon_2.points[:, 2] += 50\n",
    "\n",
    "    # Check merge code\n",
    "    verified_code = horizon_1.verify_merge(horizon_2, adjacency=1)\n",
    "    error_message = f\"Merge two horizons with code {code} test failed: verified code {verified_code} wasn't expected\"\n",
    "    assert verified_code == code, error_message\n",
    "\n",
    "    # Merge and check horizons if they are mergeable\n",
    "    if code == 4:\n",
    "        merged_horizon = Horizon.overlap_merge(horizon_1, horizon_2)\n",
    "\n",
    "        assert horizon.equal(merged_horizon), \"Overlapped horizons merge failed: merged horizon unequals to original one\"\n",
    "\n",
    "    elif code == 3:\n",
    "        merged_horizon = horizon_1.adjacent_merge(horizon_2)\n",
    "\n",
    "        assert horizon.equal(merged_horizon), \"Close horizons merge failed: merged horizon unequals to original one\"\n",
    "\n",
    "    if VERBOSE:\n",
    "        current_message = f\"The two horizons merge test with merge code {code} successfully passed.\\n\"\n",
    "        # print(current_message)\n",
    "        message += current_message"
   ]
  },
  {
   "cell_type": "markdown",
   "metadata": {},
   "source": [
    "# Merge multiple horizons\n",
    "\n",
    "We split a horizon in multiple parts, merge them into one horizon and compare it with original one."
   ]
  },
  {
   "cell_type": "code",
   "execution_count": null,
   "metadata": {},
   "outputs": [],
   "source": [
    "# Create new horizon with much more empty traces\n",
    "zero_traces = np.tril(horizon.full_matrix).astype(bool)\n",
    "horizon.filter(zero_traces)\n",
    "horizon.filter_disconnected_regions()\n",
    "\n",
    "horizon.show(show=SHOW_FIGURES, scale=SCALE)"
   ]
  },
  {
   "cell_type": "code",
   "execution_count": null,
   "metadata": {
    "tags": []
   },
   "outputs": [],
   "source": [
    "def split_and_merge_horizon_test(horizon, crop_shape, overlap, adjacency):\n",
    "    \"\"\" Split a horizon in crops with overlap and merge them.\n",
    "\n",
    "    Merged horizon compared with the original.\n",
    "\n",
    "    Parameters\n",
    "    ----------\n",
    "    horizon : :class:`Horizon`\n",
    "        Seismic horizon instance.\n",
    "    crop_shape : sequence of two integers\n",
    "        Crop shape (ilines, xlines).\n",
    "    overlap : sequence of two integers\n",
    "        Crops overlap by (ilines, xlines).\n",
    "    adjacency : int\n",
    "        Margin to consider horizons to be spatially close.\n",
    "    \"\"\"\n",
    "    current_message = \"\"\n",
    "    params = f\"crop_shape={crop_shape}; overlap={overlap}; adjacency={adjacency}\"\n",
    "    borders = []\n",
    "\n",
    "    # Get splitting borders\n",
    "    for axis in range(2):\n",
    "        stride = crop_shape[axis] - overlap[axis]\n",
    "        n_crops = math.ceil(horizon.full_matrix.shape[axis] / stride)\n",
    "        axis_borders = [(i*stride, i*stride + crop_shape[axis]) for i in range(n_crops)]\n",
    "\n",
    "        borders.append(axis_borders)\n",
    "\n",
    "    horizons = []\n",
    "\n",
    "    # Split a horizon\n",
    "    for i_border_num, horizon_i_borders in enumerate(borders[0]):\n",
    "        for x_border_num, horizon_x_borders in enumerate(borders[1]):\n",
    "            cutted_horizon_matrix = horizon.full_matrix[horizon_i_borders[0]:horizon_i_borders[1],\n",
    "                                                        horizon_x_borders[0]:horizon_x_borders[1]]\n",
    "\n",
    "            if not np.all(cutted_horizon_matrix == horizon.FILL_VALUE):\n",
    "                horizon_ = Horizon(cutted_horizon_matrix, format='matrix',\n",
    "                                   i_min=horizon_i_borders[0], x_min=horizon_x_borders[0],\n",
    "                                   field=field, name=f\"A_horizon_{i_border_num*x_border_num}\")\n",
    "\n",
    "                horizons.append(horizon_)\n",
    "\n",
    "    # Calculate horizons summation for additional checks\n",
    "    merged_ = np.zeros_like(horizons[0].full_matrix)\n",
    "\n",
    "    for horizon_ in horizons:\n",
    "        merged_ += (horizon_.full_matrix > 0)\n",
    "\n",
    "    # Horizon merge: inplace\n",
    "    horizons, _ = Horizon.merge_list(horizons, adjacency=adjacency, mean_threshold=5.)\n",
    "    merged_horizon = horizons[-1]\n",
    "\n",
    "    # Take a look at horizon parts summation\n",
    "    if SHOW_FIGURES:\n",
    "        plot([merged_, merged_horizon.full_matrix], combine='separate',\n",
    "             scale=SCALE, suptitle_label=params, colorbar=True, fontsize=14)\n",
    "\n",
    "    # Asserts\n",
    "    error_message = f\"`merge_list` test with params {params} failed\"\n",
    "    if (overlap[0] >= 0) and (overlap[1] >= 0):\n",
    "        n_missing = 0\n",
    "        assert horizon.equal(merged_horizon, threshold_missing=n_missing), error_message\n",
    "\n",
    "    else:\n",
    "        n_missing = len(horizon) - (merged_ > 0).sum()\n",
    "        assert horizon.equal(merged_horizon, threshold_missing=n_missing + 1), error_message\n",
    "\n",
    "    if VERBOSE:\n",
    "        current_message = f\"`merge_list` test with params {params} successfully passed.\\n\"\n",
    "        # print(current_message)\n",
    "        \n",
    "    return current_message"
   ]
  },
  {
   "cell_type": "code",
   "execution_count": null,
   "metadata": {
    "scrolled": true,
    "tags": []
   },
   "outputs": [],
   "source": [
    "overlaps = [(i, j) for i in range(-3, 4) for j in range(-3, 4)]\n",
    "\n",
    "SHOW_FIGURES = False\n",
    "\n",
    "crop_shapes = [\n",
    "    (horizon.full_matrix.shape[0]//20+1, horizon.full_matrix.shape[1]//20+1),   # Split horizon into small square crops\n",
    "    (horizon.full_matrix.shape[0]//10+1, horizon.full_matrix.shape[1]//10+1),   # Split horizon into medium square crops\n",
    "    (horizon.full_matrix.shape[0]//5+1, horizon.full_matrix.shape[1]//5+1),     # Split horizon into big square crops\n",
    "    (horizon.full_matrix.shape[0], horizon.full_matrix.shape[1]//20+1),         # Split horizon by i_lines\n",
    "    (horizon.full_matrix.shape[0]//20+1, horizon.full_matrix.shape[1])          # Split horizon by x_lines\n",
    "]\n",
    "\n",
    "for crop_shape in crop_shapes:\n",
    "    for overlap in overlaps:\n",
    "        min_ = min(overlap)\n",
    "        adjacency = 0 if min_ > 0 else -min_ + 1\n",
    "        message += split_and_merge_horizon_test(horizon=horizon, crop_shape=crop_shape, overlap=overlap, adjacency=adjacency)"
   ]
  },
  {
   "cell_type": "markdown",
   "metadata": {},
   "source": [
    "# Extract"
   ]
  },
  {
   "cell_type": "code",
   "execution_count": null,
   "metadata": {
    "tags": []
   },
   "outputs": [],
   "source": [
    "%%time\n",
    "valid_traces = field.dead_traces_matrix == 0\n",
    "\n",
    "mask = np.zeros(field.shape, dtype=np.int32)\n",
    "for horizon in field.labels:\n",
    "    mask[horizon.points[:, 0], horizon.points[:, 1], horizon.points[:, 2]] = 1\n",
    "\n",
    "origin = np.array([0, 0, 0])"
   ]
  },
  {
   "cell_type": "markdown",
   "metadata": {},
   "source": [
    "## No chunks"
   ]
  },
  {
   "cell_type": "code",
   "execution_count": null,
   "metadata": {
    "tags": []
   },
   "outputs": [],
   "source": [
    "horizons = Horizon.from_mask(mask.copy(), field=field, origin=origin)\n",
    "extracted_horizon = horizons[-1]\n",
    "\n",
    "assert horizon.equal(extracted_horizon), \"`from_mask` test failed: original and extracted horizons are unequal\""
   ]
  },
  {
   "cell_type": "markdown",
   "metadata": {},
   "source": [
    "## With chunks"
   ]
  },
  {
   "cell_type": "code",
   "execution_count": null,
   "metadata": {
    "tags": []
   },
   "outputs": [],
   "source": [
    "def chunked_extraction_test(mask, true_horizon, valid_traces, origin, step, overlap):\n",
    "    \"\"\" Split a horizon in chunks using mask and merge them.\n",
    "\n",
    "    Merged horizon compared with the original.\n",
    "\n",
    "    Parameters\n",
    "    ----------\n",
    "    mask : np.ndarray\n",
    "        Horizon presence mask in the cube coordinates. \n",
    "    true_horizon : :class:`Horizon`\n",
    "        Seismic horizon instance.\n",
    "    valid_traces : np.ndarray\n",
    "        Mask of valid traces in the field.\n",
    "    origin : sequence of three integers\n",
    "        The upper left coordinate of a `mask` in the cube coordinates.\n",
    "    step : int\n",
    "        Chunk size along i_lines and x_lines.\n",
    "    overlap : sequence of two integers\n",
    "        Crops overlap by (ilines, xlines).\n",
    "    \"\"\"\n",
    "    current_message = \"\"\n",
    "    params = f\"step={step}; overlap={overlap}\"\n",
    "    i_step = x_step = step\n",
    "    i_stride = x_stride = step - overlap\n",
    "\n",
    "    # Create horizons from subvolumes\n",
    "    horizons = []\n",
    "    for i_start in range(0, mask.shape[0], i_stride):\n",
    "        for x_start in range(0, mask.shape[1], x_stride):\n",
    "            i_end = min(i_start + i_step, mask.shape[0])\n",
    "            x_end = min(x_start + x_step, mask.shape[1])\n",
    "\n",
    "            slices = (slice(i_start, i_end), slice(x_start, x_end), slice(None))\n",
    "\n",
    "            if valid_traces[slices[:2]].sum() > 0:\n",
    "                subvolume = mask[slices].copy()\n",
    "                subvolume_origin = origin + [slc.start or 0 for slc in slices]\n",
    "\n",
    "                horizons_, _ = Horizon.extract_from_mask(subvolume, field=field, origin=subvolume_origin,\n",
    "                                                         minsize=0, verbose=False)\n",
    "                horizons.extend(horizons_)\n",
    "\n",
    "    # Merge horizons from chunks\n",
    "    horizons, _ = Horizon.merge_list(horizons, mean_threshold=0.5, max_threshold=0.2, adjacency=0)\n",
    "    extracted_horizon = horizons[-1]\n",
    "\n",
    "    assert true_horizon.equal(extracted_horizon), f\"Extraction with chunks test failed with params: {params}\"\n",
    "\n",
    "    if VERBOSE:\n",
    "        current_message = f\"The extraction with chunks test with params {params} successfully passed.\\n\"\n",
    "\n",
    "    return current_message"
   ]
  },
  {
   "cell_type": "code",
   "execution_count": null,
   "metadata": {
    "scrolled": true,
    "tags": []
   },
   "outputs": [],
   "source": [
    "for step in [30, 50, 100]:\n",
    "    for overlap in [5, 10, 15]:\n",
    "        message += chunked_extraction_test(mask.copy(), true_horizon=horizon,\n",
    "                                           valid_traces=valid_traces, origin=origin,\n",
    "                                           step=step, overlap=overlap)"
   ]
  }
 ],
 "metadata": {
  "kernelspec": {
   "display_name": "Python 3 (ipykernel)",
   "language": "python",
   "name": "python3"
  },
  "language_info": {
   "codemirror_mode": {
    "name": "ipython",
    "version": 3
   },
   "file_extension": ".py",
   "mimetype": "text/x-python",
   "name": "python",
   "nbconvert_exporter": "python",
   "pygments_lexer": "ipython3",
   "version": "3.8.10"
  },
  "widgets": {
   "application/vnd.jupyter.widget-state+json": {
    "state": {},
    "version_major": 2,
    "version_minor": 0
   }
  }
 },
 "nbformat": 4,
 "nbformat_minor": 4
}
