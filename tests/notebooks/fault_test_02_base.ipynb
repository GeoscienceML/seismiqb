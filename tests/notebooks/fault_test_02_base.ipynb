{
 "cells": [
  {
   "cell_type": "code",
   "execution_count": null,
   "metadata": {
    "tags": []
   },
   "outputs": [],
   "source": [
    "# Tests for base Fault functionality: initialization, dumping, visualizations, etc.\n",
    "%load_ext autoreload\n",
    "%autoreload 2\n",
    "\n",
    "import os\n",
    "import sys\n",
    "import warnings\n",
    "import numpy as np\n",
    "\n",
    "warnings.filterwarnings('ignore')\n",
    "\n",
    "sys.path.insert(0, '../../../seismiqb')\n",
    "\n",
    "from seismiqb import Field, Fault"
   ]
  },
  {
   "cell_type": "code",
   "execution_count": null,
   "metadata": {
    "tags": []
   },
   "outputs": [],
   "source": [
    "def compare_arrays(a, b):\n",
    "    return all([(item[0] == item[1]).all() for item in zip(a, b)])"
   ]
  },
  {
   "cell_type": "code",
   "execution_count": null,
   "metadata": {
    "tags": []
   },
   "outputs": [],
   "source": [
    "\"\"\" You can manage cube and fault for the test:\n",
    "\n",
    "CUBE_PATH : str\n",
    "    Path to an existed seismic cube.\n",
    "FAULT_PATH : str\n",
    "    Path to an existed seismic fault.\n",
    "\"\"\"\n",
    "# Tests parameters\n",
    "OUTPUT_DIR = './fault_test_files'\n",
    "\n",
    "CUBE_PATH = os.path.join(OUTPUT_DIR, 'test_cube.sgy')\n",
    "FAULT_PATH = os.path.join(OUTPUT_DIR, 'test_fault')\n",
    "\n",
    "# Visualization parameters\n",
    "SCALE = 1\n",
    "SHOW_FIGURES = True"
   ]
  },
  {
   "cell_type": "markdown",
   "metadata": {},
   "source": [
    "# Initialization"
   ]
  },
  {
   "cell_type": "code",
   "execution_count": null,
   "metadata": {
    "tags": []
   },
   "outputs": [],
   "source": [
    "%%time\n",
    "field = Field(CUBE_PATH)\n",
    "fault = Fault(FAULT_PATH, field=field)\n",
    "\n",
    "fault.show()"
   ]
  },
  {
   "cell_type": "code",
   "execution_count": null,
   "metadata": {
    "tags": []
   },
   "outputs": [],
   "source": [
    "%%time\n",
    "# from_points init\n",
    "new_fault = Fault(storage=fault.points, field=fault.field, name='tester')\n",
    "\n",
    "assert (fault.points == new_fault.points).all(), f\"`from_points` initialization test failed: original and initialized fault points are unequal\""
   ]
  },
  {
   "cell_type": "code",
   "execution_count": null,
   "metadata": {
    "tags": []
   },
   "outputs": [],
   "source": [
    "%%time\n",
    "# from_object init\n",
    "new_fault = Fault(storage={'sticks': fault.sticks}, field=fault.field, name='tester')\n",
    "\n",
    "assert (fault.points == new_fault.points).all(), f\"`from_objects` with 'sticks' initialization test failed: original and initialized fault points are unequal\""
   ]
  },
  {
   "cell_type": "code",
   "execution_count": null,
   "metadata": {
    "tags": []
   },
   "outputs": [],
   "source": [
    "%%time\n",
    "# from_object init\n",
    "new_fault = Fault(storage={'sticks': fault.sticks, 'points': fault.points}, field=fault.field, name='tester')\n",
    "\n",
    "assert (fault.points == new_fault.points).all(), f\"`from_objects` with 'sticks' and 'points' initialization test failed: original and initialized fault points are unequal\"\n",
    "assert (fault.sticks == new_fault.sticks), f\"`from_objects` with 'sticks' and 'points' initialization test failed: original and initialized fault sticks are unequal\""
   ]
  },
  {
   "cell_type": "markdown",
   "metadata": {},
   "source": [
    "# Storage convertation"
   ]
  },
  {
   "cell_type": "code",
   "execution_count": null,
   "metadata": {
    "tags": []
   },
   "outputs": [],
   "source": [
    "%%time\n",
    "# from_object init\n",
    "\n",
    "fault_from_points = Fault(storage={'points': fault.points}, field=fault.field)\n",
    "\n",
    "assert not fault_from_points.has_component('sticks'), f\"Fault created from 'points' has 'sticks'\"\n",
    "assert not fault_from_points.has_component('nodes'), f\"Fault created from 'points' has 'nodes'\"\n",
    "assert fault_from_points.direction == 0, f\"'direction' is wrong\"\n",
    "\n",
    "assert len(fault_from_points.sticks) > 0, f\"'sticks' was not created from 'points'\""
   ]
  },
  {
   "cell_type": "code",
   "execution_count": null,
   "metadata": {
    "tags": []
   },
   "outputs": [],
   "source": [
    "%%time\n",
    "# from_object init\n",
    "\n",
    "fault_from_sticks = Fault(storage={'sticks': fault.sticks}, field=fault.field)\n",
    "\n",
    "assert not fault_from_sticks.has_component('nodes'), f\"Fault created from 'sticks' has 'nodes'\"\n",
    "assert not fault_from_sticks.has_component('points'), f\"Fault created from 'sticks' has 'points'\"\n",
    "assert fault_from_sticks.direction == 0, f\"'direction' is wrong\"\n",
    "\n",
    "assert len(fault_from_sticks.nodes) > 0, f\"'nodes' was not created from 'sticks'\""
   ]
  },
  {
   "cell_type": "code",
   "execution_count": null,
   "metadata": {
    "tags": []
   },
   "outputs": [],
   "source": [
    "%%time\n",
    "# from_object init\n",
    "\n",
    "fault_from_nodes = Fault(storage={'nodes': fault.nodes, 'simplices': fault.simplices}, field=fault.field)\n",
    "\n",
    "assert not fault_from_nodes.has_component('points'), f\"Fault created from 'nodes'/'simplices' has 'points'\"\n",
    "assert not fault_from_nodes.has_component('sticks'), f\"Fault created from 'nodes'/'simplices' has 'sticks'\"\n",
    "\n",
    "assert len(fault_from_nodes.points) > 0, f\"'points' was not created from 'nodes' and 'simplices'\"\n",
    "assert fault_from_nodes.direction == 0, f\"'direction' is not defined\""
   ]
  },
  {
   "cell_type": "markdown",
   "metadata": {},
   "source": [
    "# Dump"
   ]
  },
  {
   "cell_type": "code",
   "execution_count": null,
   "metadata": {
    "tags": []
   },
   "outputs": [],
   "source": [
    "dump_path_npz = os.path.join(OUTPUT_DIR, 'tmp_fault.npz')"
   ]
  },
  {
   "cell_type": "code",
   "execution_count": null,
   "metadata": {
    "tags": []
   },
   "outputs": [],
   "source": [
    "%%time\n",
    "# dump npz\n",
    "fault.dump_npz(path=dump_path_npz)\n",
    "\n",
    "dumped_fault = Fault(storage=dump_path_npz, field=field)\n",
    "\n",
    "assert (fault.points == dumped_fault.points).all(), f\"`dump_npz` test failed: original and dumped 'points' are unequal\"\n",
    "assert compare_arrays(fault.sticks, dumped_fault.sticks), f\"`dump_npz` test failed: original and dumped 'sticks' are unequal\"\n",
    "assert (fault.nodes == dumped_fault.nodes).all(), f\"`dump_npz` test failed: original and dumped 'nodes' are unequal\"\n",
    "assert (fault.simplices == dumped_fault.simplices).all(), f\"`dump_npz` test failed: original and dumped 'simplices' are unequal\"\n",
    "assert (fault.direction == dumped_fault.direction), f\"`dump_npz` test failed: original and dumped 'direction' are unequal\"\n",
    "\n",
    "os.remove(dump_path_npz)"
   ]
  },
  {
   "cell_type": "code",
   "execution_count": null,
   "metadata": {
    "tags": []
   },
   "outputs": [],
   "source": [
    "%%time\n",
    "# dump fault sticks\n",
    "dump_path_sticks = os.path.join(OUTPUT_DIR, 'tmp_fault.char')\n",
    "fault.dump_fault_sticks(path=dump_path_sticks)\n",
    "\n",
    "dumped_fault = Fault(storage=dump_path_sticks, field=field)\n",
    "\n",
    "assert compare_arrays(fault.sticks, dumped_fault.sticks), f\"`dump_fault_sticks` test failed: original and dumped 'sticks' are unequal\"\n",
    "\n",
    "os.remove(dump_path_sticks)"
   ]
  },
  {
   "cell_type": "markdown",
   "metadata": {},
   "source": [
    "# Visualizations"
   ]
  },
  {
   "cell_type": "code",
   "execution_count": null,
   "metadata": {
    "tags": []
   },
   "outputs": [],
   "source": [
    "savepath = os.path.join(OUTPUT_DIR, 'tmp_fault_3d.html') \n",
    "\n",
    "fault.show_3d(sticks=False, show=SHOW_FIGURES, savepath=savepath)\n",
    "\n",
    "os.remove(savepath)"
   ]
  },
  {
   "cell_type": "code",
   "execution_count": null,
   "metadata": {
    "tags": []
   },
   "outputs": [],
   "source": [
    "fault.show_3d(sticks=True, show=SHOW_FIGURES, savepath=savepath)\n",
    "\n",
    "os.remove(savepath)"
   ]
  },
  {
   "cell_type": "code",
   "execution_count": null,
   "metadata": {
    "tags": []
   },
   "outputs": [],
   "source": [
    "savepath = os.path.join(OUTPUT_DIR, 'tmp_fault_2d.png') \n",
    "\n",
    "fault.show(show=SHOW_FIGURES, savepath=savepath)\n",
    "\n",
    "os.remove(savepath)"
   ]
  }
 ],
 "metadata": {
  "kernelspec": {
   "display_name": "Python 3 (ipykernel)",
   "language": "python",
   "name": "python3"
  },
  "language_info": {
   "codemirror_mode": {
    "name": "ipython",
    "version": 3
   },
   "file_extension": ".py",
   "mimetype": "text/x-python",
   "name": "python",
   "nbconvert_exporter": "python",
   "pygments_lexer": "ipython3",
   "version": "3.8.10"
  },
  "widgets": {
   "application/vnd.jupyter.widget-state+json": {
    "state": {},
    "version_major": 2,
    "version_minor": 0
   }
  }
 },
 "nbformat": 4,
 "nbformat_minor": 4
}
