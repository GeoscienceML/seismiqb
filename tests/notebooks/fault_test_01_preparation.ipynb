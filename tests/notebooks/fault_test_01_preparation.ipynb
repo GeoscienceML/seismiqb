{
 "cells": [
  {
   "cell_type": "code",
   "execution_count": null,
   "metadata": {
    "tags": []
   },
   "outputs": [],
   "source": [
    "# This notebook contains preparation for Fault tests\n",
    "# It creates and saves a fake cube with a fault\n",
    "import os\n",
    "import sys\n",
    "import shutil\n",
    "import warnings\n",
    "import numpy as np\n",
    "\n",
    "warnings.filterwarnings('ignore')\n",
    "\n",
    "sys.path.insert(0, '../../../seismiqb')\n",
    "sys.path.insert(0, '..')\n",
    "\n",
    "from seismiqb import Fault, Field, array_to_segy\n",
    "from utils import generate_synthetic"
   ]
  },
  {
   "cell_type": "code",
   "execution_count": null,
   "metadata": {
    "tags": []
   },
   "outputs": [],
   "source": [
    "\"\"\" You can manage notebook execution kwargs which relates to cube and fault for the test:\n",
    "\n",
    "SYNTHETIC_MODE : bool\n",
    "    Whether to create a synthetic data (cube and fault) or use existed, provided by paths.\n",
    "CUBE_PATH : str or None\n",
    "    Path to an existed seismic cube.\n",
    "    Notice that it is only used with SYNTHETIC_MODE = False.\n",
    "FAULT_PATH : str or None\n",
    "    Path to an existed seismic fault.\n",
    "    Notice that it is only used with SYNTHETIC_MODE = False.\n",
    "CUBE_SHAPE : sequence of three integers\n",
    "    Shape of a synthetic cube.\n",
    "\"\"\"\n",
    "# Synthetic creation parameters\n",
    "SYNTHETIC_MODE = True\n",
    "CUBE_PATH = None\n",
    "FAULT_PATH = None\n",
    "CUBE_SHAPE = (500, 500, 200)\n",
    "\n",
    "# Visualization parameters\n",
    "SCALE = 1\n",
    "SHOW_FIGURES = True"
   ]
  },
  {
   "cell_type": "markdown",
   "metadata": {},
   "source": [
    "# Prepare a workspace\n",
    "\n",
    "Create directories for files and create a fake cube with faults and save cube and one fault.\n",
    "\n",
    "**Storage structure:**\n",
    "___\n",
    "\n",
    "\n",
    "\n",
    "**fault_test_files** (fault tests directory with temporary files)\n",
    "\n",
    "&emsp;├── **test_cube.sgy**\n",
    "\n",
    "&emsp;├── **test_cube.meta**\n",
    "\n",
    "&emsp;└── **test_fault**\n"
   ]
  },
  {
   "cell_type": "code",
   "execution_count": null,
   "metadata": {
    "tags": []
   },
   "outputs": [],
   "source": [
    "OUTPUT_DIR = './fault_test_files'\n",
    "\n",
    "# (Re)create the test directory\n",
    "if os.path.exists(OUTPUT_DIR):\n",
    "    shutil.rmtree(OUTPUT_DIR)\n",
    "\n",
    "os.makedirs(OUTPUT_DIR)"
   ]
  },
  {
   "cell_type": "markdown",
   "metadata": {},
   "source": [
    "# Create a fake cube and a fake fault"
   ]
  },
  {
   "cell_type": "code",
   "execution_count": null,
   "metadata": {
    "tags": []
   },
   "outputs": [],
   "source": [
    "%%time\n",
    "if SYNTHETIC_MODE:\n",
    "    CUBE_PATH = os.path.join(OUTPUT_DIR, 'test_cube.sgy')\n",
    "    FAULT_PATH = os.path.join(OUTPUT_DIR, 'test_fault')\n",
    "\n",
    "    # Create a cube and a fault\n",
    "    synt3d, _, fault_sticks = generate_synthetic(shape=CUBE_SHAPE)\n",
    "\n",
    "    # Dump data\n",
    "    array_to_segy(synt3d, CUBE_PATH, zip_segy=False, delay=300)\n",
    "\n",
    "    # Check cube\n",
    "    field = Field(CUBE_PATH)\n",
    "\n",
    "    geometry_loading_error = \"Synthetic geometry creation error: saved and loaded data are different\"\n",
    "    assert np.allclose(field.geometry[:, :, :], synt3d), geometry_loading_error\n",
    "\n",
    "    # Choose one fault and save it\n",
    "    fault = Fault({'sticks': fault_sticks}, field=field, name='test')\n",
    "    fault.dump_fault_sticks(FAULT_PATH)\n",
    "\n",
    "    # Check fault\n",
    "    opened_fault = Fault(FAULT_PATH, field=field)\n",
    "\n",
    "    fault_loading_error = \"Synthetic fault creation error: saved and loaded data are different\"\n",
    "    assert np.array_equal(\n",
    "        np.concatenate(fault.sticks),\n",
    "        np.concatenate(opened_fault.sticks)\n",
    "    ), fault_loading_error\n",
    "\n",
    "    opened_fault.show(axis=2, centering=True)\n",
    "    \n",
    "    opened_fault_without_transform = Fault(FAULT_PATH, field=field, transform=False, verify=False)\n",
    "\n",
    "    assert ((opened_fault_without_transform.nodes - opened_fault.nodes)[:, :2] == [1, 1]).all(), \"Wrong ilines/xlines offset\""
   ]
  }
 ],
 "metadata": {
  "kernelspec": {
   "display_name": "Python 3 (ipykernel)",
   "language": "python",
   "name": "python3"
  },
  "language_info": {
   "codemirror_mode": {
    "name": "ipython",
    "version": 3
   },
   "file_extension": ".py",
   "mimetype": "text/x-python",
   "name": "python",
   "nbconvert_exporter": "python",
   "pygments_lexer": "ipython3",
   "version": "3.8.10"
  },
  "vscode": {
   "interpreter": {
    "hash": "31f2aee4e71d21fbe5cf8b01ff0e069b9275f58929596ceb00d14d90e3e16cd6"
   }
  },
  "widgets": {
   "application/vnd.jupyter.widget-state+json": {
    "state": {},
    "version_major": 2,
    "version_minor": 0
   }
  }
 },
 "nbformat": 4,
 "nbformat_minor": 4
}
