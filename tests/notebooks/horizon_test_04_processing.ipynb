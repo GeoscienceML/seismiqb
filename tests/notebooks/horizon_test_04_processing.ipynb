{
 "cells": [
  {
   "cell_type": "code",
   "execution_count": null,
   "metadata": {
    "tags": []
   },
   "outputs": [],
   "source": [
    "# Tests for methods that process horizon surface (filtering, creating carcass, holes, etc.)\n",
    "import os\n",
    "import sys\n",
    "import warnings\n",
    "import numpy as np\n",
    "from cv2 import dilate\n",
    "\n",
    "warnings.filterwarnings('ignore')\n",
    "\n",
    "sys.path.insert(0, '../../../seismiqb')\n",
    "\n",
    "from seismiqb import Field, Horizon, plot"
   ]
  },
  {
   "cell_type": "code",
   "execution_count": null,
   "metadata": {},
   "outputs": [],
   "source": [
    "\"\"\" You can manage cube and horizon for the test:\n",
    "\n",
    "CUBE_PATH : str\n",
    "    Path to an existed seismic cube.\n",
    "HORIZON_PATH : str\n",
    "    Path to an existed seismic horizon.\n",
    "\"\"\"\n",
    "# Tests parameters\n",
    "OUTPUT_DIR = './horizon_test_files'\n",
    "\n",
    "CUBE_PATH = os.path.join(OUTPUT_DIR, 'test_cube.sgy')\n",
    "HORIZON_PATH = os.path.join(OUTPUT_DIR, 'test_horizon')\n",
    "\n",
    "SEED = 42\n",
    "\n",
    "# Visualization parameters\n",
    "SCALE = 1\n",
    "SHOW_FIGURES = True"
   ]
  },
  {
   "cell_type": "code",
   "execution_count": null,
   "metadata": {},
   "outputs": [],
   "source": [
    "%%time\n",
    "field = Field(CUBE_PATH)\n",
    "horizon = Horizon(HORIZON_PATH, field=field)\n",
    "\n",
    "horizon.show(show=SHOW_FIGURES)"
   ]
  },
  {
   "cell_type": "markdown",
   "metadata": {},
   "source": [
    "# Filtering"
   ]
  },
  {
   "cell_type": "code",
   "execution_count": null,
   "metadata": {},
   "outputs": [],
   "source": [
    "%%time\n",
    "# from_subset\n",
    "# Cut horizon by i_line and check its filtered and non-filtered parts\n",
    "# Create filtering matrix\n",
    "i_line_cut = horizon.shape[0] // 3\n",
    "\n",
    "filtering_matrix = np.zeros_like(horizon.full_matrix)\n",
    "filtering_matrix[i_line_cut:] = 1\n",
    "\n",
    "# Horizon filtered by matrix\n",
    "filtered_horizon = Horizon(storage=horizon.full_matrix, field=field, name='filtered')\n",
    "filtered_horizon = filtered_horizon.from_subset(filtering_matrix)\n",
    "\n",
    "filtered_horizon.show(show=SHOW_FIGURES)\n",
    "\n",
    "not_empty_traces_error = \"`from_subset` filtering test failed: filtered traces are not empty\"\n",
    "assert np.all(filtered_horizon.full_matrix[:i_line_cut] == filtered_horizon.FILL_VALUE), not_empty_traces_error\n",
    "\n",
    "empty_traces_error = \"`from_subset` filtering test failed: non-filtered traces was changed by filtering\"\n",
    "assert np.array_equal(filtered_horizon.full_matrix[i_line_cut:],\n",
    "                      horizon.full_matrix[i_line_cut:]), empty_traces_error"
   ]
  },
  {
   "cell_type": "code",
   "execution_count": null,
   "metadata": {},
   "outputs": [],
   "source": [
    "%%time\n",
    "# filter\n",
    "filtered_horizon = Horizon(horizon.full_matrix, field=field, name='filtered')\n",
    "filtered_horizon.filter(inplace=True)\n",
    "\n",
    "filtered_horizon.show(show=SHOW_FIGURES)\n",
    "\n",
    "# Check that dead traces filled by FILL_VALUE\n",
    "dead_traces = filtered_horizon.full_matrix[field.dead_traces_matrix == 1]\n",
    "\n",
    "not_empty_traces_error = \"`filter` test failed: filtered traces are not empty\"\n",
    "assert np.all(dead_traces == filtered_horizon.FILL_VALUE), not_empty_traces_error\n",
    "\n",
    "# Check that other traces didn't change\n",
    "nonzero_traces = filtered_horizon.full_matrix[field.dead_traces_matrix == 0]\n",
    "original_nonzero_traces = horizon.full_matrix[field.dead_traces_matrix == 0]\n",
    "\n",
    "empty_traces_error = \"`filter` test failed: non-filtered traces were changed by filtering\"\n",
    "assert np.array_equal(nonzero_traces, original_nonzero_traces), empty_traces_error"
   ]
  },
  {
   "cell_type": "code",
   "execution_count": null,
   "metadata": {},
   "outputs": [],
   "source": [
    "%%time\n",
    "# filter\n",
    "# Cut horizon by i_line and check its filtered and non-filtered parts\n",
    "i_line_cut = horizon.shape[0] // 3\n",
    "\n",
    "filtered_horizon = Horizon(horizon.full_matrix, field=field, name='filtered')\n",
    "\n",
    "filtering_matrix = np.zeros_like(horizon.full_matrix)\n",
    "filtering_matrix[:i_line_cut] = 1\n",
    "\n",
    "filtered_horizon.filter(filtering_matrix, inplace=True)\n",
    "\n",
    "filtered_horizon.show(show=SHOW_FIGURES)\n",
    "\n",
    "not_empty_traces_error = \"`filter` method test failed: filtered traces are not empty\"\n",
    "assert np.all(filtered_horizon.full_matrix[:i_line_cut] == filtered_horizon.FILL_VALUE), not_empty_traces_error\n",
    "\n",
    "empty_traces_error = \"`filter` method test failed: non-filtered traces was changed by filtering\"\n",
    "assert np.array_equal(filtered_horizon.full_matrix[i_line_cut:],\n",
    "                      horizon.full_matrix[i_line_cut:]), empty_traces_error"
   ]
  },
  {
   "cell_type": "code",
   "execution_count": null,
   "metadata": {
    "tags": []
   },
   "outputs": [],
   "source": [
    "%%time\n",
    "# Filter spikes with median_diff, gradient and spikes maps\n",
    "# Create constant horizon with a spike\n",
    "spike_point = (horizon.shape[0] // 2, horizon.shape[1] // 2)\n",
    "\n",
    "horizon_matrix = np.ones_like(horizon.full_matrix) * horizon.field.shape[-1]//2\n",
    "horizon_matrix[spike_point] += 5\n",
    "\n",
    "horizon_with_spikes = Horizon(horizon_matrix, field=field, name='constant_with_spike')\n",
    "horizon_with_spikes.filter(inplace=True)\n",
    "\n",
    "# Get mask of areas with spike cut\n",
    "dilation_iterations = 1\n",
    "\n",
    "spikes_mask = np.zeros(shape=horizon_with_spikes.full_matrix.shape, dtype=np.float32)\n",
    "spikes_mask[spike_point] = 1            \n",
    "spikes_mask = dilate(spikes_mask, kernel=np.ones((3, 3), np.uint8), iterations=dilation_iterations)\n",
    "\n",
    "spikes_mask = spikes_mask > 0\n",
    "\n",
    "spikes = {\n",
    "    'median': horizon_with_spikes.get_median_diff_map,\n",
    "    'gradient': horizon_with_spikes.get_gradient_map,\n",
    "    'spikes': horizon_with_spikes.get_spikes_mask\n",
    "}\n",
    "\n",
    "# Check despiking\n",
    "for mode, get_spikes_method in spikes.items():\n",
    "    spikes_map = get_spikes_method(dilation_iterations=dilation_iterations)\n",
    "    spikes_map = spikes_map > 0\n",
    "    \n",
    "    despiked_horizon = horizon_with_spikes.filter(spikes_map, inplace=False)\n",
    "\n",
    "    not_empty_traces_error = f\"Despike with mode '{mode}' test failed: filtered traces with spike are not empty\"\n",
    "    assert np.all(despiked_horizon.full_matrix[spikes_mask] == despiked_horizon.FILL_VALUE), not_empty_traces_error\n",
    "\n",
    "    empty_traces_error = f\"Despike with mode '{mode}' test failed: despike changes traces without spikes\"\n",
    "    assert np.array_equal(despiked_horizon.full_matrix[~spikes_mask], horizon_with_spikes.full_matrix[~spikes_mask]), empty_traces_error\n",
    "\n",
    "    print(f\"Despiking mode '{mode}' was successfully tested\")"
   ]
  },
  {
   "cell_type": "code",
   "execution_count": null,
   "metadata": {},
   "outputs": [],
   "source": [
    "%%time\n",
    "# filter_disconnected_regions\n",
    "# Split horizon in two parts by i_line_cut\n",
    "i_line_cut = horizon.shape[0]//3\n",
    "filtering_matrix = np.zeros_like(horizon.full_matrix)\n",
    "filtering_matrix[i_line_cut, :] = 1\n",
    "\n",
    "splitted_horizon = Horizon(horizon.full_matrix, field=field, name='splitted')\n",
    "splitted_horizon.filter(filtering_matrix, inplace=True)\n",
    "\n",
    "splitted_horizon.filter_disconnected_regions(inplace=True)\n",
    "\n",
    "not_empty_traces_error = f\"`filter_disconnected_regions` test failed: disconnected region wasn't filtered\"\n",
    "assert np.all(splitted_horizon.full_matrix[:i_line_cut+1]==splitted_horizon.FILL_VALUE), not_empty_traces_error\n",
    "\n",
    "empty_traces_error = f\"`filter_disconnected_regions` test failed: wrong traces were filtered\"\n",
    "assert np.array_equal(splitted_horizon.full_matrix[i_line_cut+1:],  horizon.full_matrix[i_line_cut+1:]), empty_traces_error"
   ]
  },
  {
   "cell_type": "markdown",
   "metadata": {},
   "source": [
    "# Specific manipulations"
   ]
  },
  {
   "cell_type": "code",
   "execution_count": null,
   "metadata": {},
   "outputs": [],
   "source": [
    "horizon = Horizon(horizon.full_matrix, field=field, name='filtered')\n",
    "horizon.filter(inplace=True)\n",
    "\n",
    "frequency = 100\n",
    "\n",
    "def calculate_grid_coverage(horizon, frequencies=100, width=1, **kwargs):\n",
    "    \"\"\" Approximate calculation of coverage of regular grid.\n",
    "\n",
    "    horizon : :class:`Horizon`\n",
    "        Seismic horizon instance.\n",
    "    frequencies : int or sequence of two integers\n",
    "        (iline, xline) grid frequencies.\n",
    "        If int, then ilines and xlines frequencies are equal.\n",
    "    width : int or sequence of two integers\n",
    "        (iline, xline) grid width.\n",
    "        If int, then ilines and xlines grid widths are equal.\n",
    "    \"\"\"\n",
    "    if isinstance(frequencies, int):\n",
    "        frequencies = (frequencies, frequencies)\n",
    "\n",
    "    i_min = kwargs.get('i_min', horizon.i_min)\n",
    "    x_min = kwargs.get('x_min', horizon.x_min)\n",
    "\n",
    "    amount_of_ilines = (horizon.i_length - i_min) // frequencies[0]\n",
    "    amount_of_xlines = (horizon.x_length - x_min) // frequencies[1]\n",
    "\n",
    "    # On borders we have a line with half of grid width\n",
    "    if (horizon.i_length - i_min) % frequencies[0] > 0:\n",
    "        amount_of_ilines += 0.5\n",
    "    else:\n",
    "        amount_of_ilines -= 0.5\n",
    "\n",
    "    if (horizon.x_length - x_min) % frequencies[1] > 0:\n",
    "        amount_of_xlines += 0.5\n",
    "    else:\n",
    "        amount_of_xlines -= 0.5\n",
    "\n",
    "    # Count amount of traces for grid with width = 1\n",
    "    intersection_traces = amount_of_ilines * amount_of_xlines\n",
    "    grid_traces = amount_of_ilines * horizon.x_length + amount_of_xlines * horizon.i_length\n",
    "\n",
    "    # Apply width\n",
    "    intersection_traces = width * width * intersection_traces\n",
    "    grid_traces = width * grid_traces\n",
    "    grid_traces -= intersection_traces\n",
    "\n",
    "    # Calculate approximate amount of traces in grid in horizon area\n",
    "    coverage = grid_traces / horizon.size\n",
    "    return coverage"
   ]
  },
  {
   "cell_type": "markdown",
   "metadata": {},
   "source": [
    "## Carcass"
   ]
  },
  {
   "cell_type": "code",
   "execution_count": null,
   "metadata": {},
   "outputs": [],
   "source": [
    "%%time\n",
    "carcass = horizon.make_carcass(margin=0, frequencies=frequency, regular=True, interpolate=True)\n",
    "\n",
    "carcass.show(show=SHOW_FIGURES, load_kwargs={'enlarge': True})\n",
    "\n",
    "approximate_coverage = calculate_grid_coverage(horizon=horizon, frequencies=frequency, width=3, i_min=0, x_min=0)\n",
    "\n",
    "assert np.isclose(carcass.coverage, approximate_coverage, atol=2e-3), \"`make_carcass` test failed: resulted coverage is not expected\""
   ]
  },
  {
   "cell_type": "markdown",
   "metadata": {},
   "source": [
    "## thin_out"
   ]
  },
  {
   "cell_type": "code",
   "execution_count": null,
   "metadata": {},
   "outputs": [],
   "source": [
    "%%time\n",
    "thined_horizon = Horizon(horizon.full_matrix, field=field, name='thined')\n",
    "thined_horizon.thin_out(factor=(frequency, frequency), threshold=np.min(horizon.shape)//10, inplace=True)\n",
    "\n",
    "thined_horizon.show(show=SHOW_FIGURES, load_kwargs={'enlarge': True})\n",
    "\n",
    "approximate_coverage = calculate_grid_coverage(horizon=horizon, frequencies=frequency, width=1,\n",
    "                                               i_min=horizon.i_min, x_min=horizon.x_min)\n",
    "\n",
    "assert np.isclose(thined_horizon.coverage, approximate_coverage, atol=2e-3), \"`thin_out` test failed: resulted coverage is not expected\""
   ]
  },
  {
   "cell_type": "markdown",
   "metadata": {},
   "source": [
    "# Interpolate"
   ]
  },
  {
   "cell_type": "code",
   "execution_count": null,
   "metadata": {},
   "outputs": [],
   "source": [
    "%%time\n",
    "interpolated_horizon = Horizon(thined_horizon.full_matrix, field=field, name='interpolated')\n",
    "interpolated_horizon.interpolate(inplace=True)\n",
    "\n",
    "interpolated_horizon.show(show=SHOW_FIGURES, load_kwargs={'enlarge': True})\n",
    "\n",
    "approximate_coverage = calculate_grid_coverage(horizon=horizon, frequencies=frequency, width=3,\n",
    "                                               i_min=horizon.i_min, x_min=horizon.x_min)\n",
    "\n",
    "assert np.isclose(interpolated_horizon.coverage, approximate_coverage, atol=2e-3), \"`interpolate` test failed: resulted coverage is not expected\"\n",
    "\n",
    "# Existed traces mustn't be changed\n",
    "nonbad_traces_mask = thined_horizon.full_matrix != thined_horizon.FILL_VALUE\n",
    "nonbad_traces_thined = thined_horizon.full_matrix[nonbad_traces_mask]\n",
    "nonbad_traces_interpolated = interpolated_horizon.full_matrix[nonbad_traces_mask]\n",
    "\n",
    "assert np.array_equal(\n",
    "    nonbad_traces_thined, nonbad_traces_interpolated, equal_nan=False\n",
    "), \"interpolate test failed: surface values were changed\""
   ]
  },
  {
   "cell_type": "markdown",
   "metadata": {},
   "source": [
    "## Holes"
   ]
  },
  {
   "cell_type": "code",
   "execution_count": null,
   "metadata": {
    "tags": []
   },
   "outputs": [],
   "source": [
    "%%time\n",
    "filtering_matrix = horizon.generate_holes_matrix(seed=SEED)\n",
    "filtering_matrix = horizon.matrix_put_on_full(filtering_matrix)\n",
    "\n",
    "horizon_with_holes = Horizon(horizon.full_matrix, field=field, name='holed')\n",
    "horizon_with_holes.filter(filtering_matrix, inplace=True)\n",
    "\n",
    "if SHOW_FIGURES:\n",
    "    plot(filtering_matrix, cmap='viridis', scale=SCALE, title='Holes matrix')\n",
    "    horizon_with_holes.show(scale=SCALE)\n",
    "\n",
    "assert (horizon_with_holes.coverage < horizon.coverage), \"`generate_holes_matrix` test failed: no traces was filtered\""
   ]
  }
 ],
 "metadata": {
  "kernelspec": {
   "display_name": "Python 3 (ipykernel)",
   "language": "python",
   "name": "python3"
  },
  "language_info": {
   "codemirror_mode": {
    "name": "ipython",
    "version": 3
   },
   "file_extension": ".py",
   "mimetype": "text/x-python",
   "name": "python",
   "nbconvert_exporter": "python",
   "pygments_lexer": "ipython3",
   "version": "3.8.10"
  },
  "widgets": {
   "application/vnd.jupyter.widget-state+json": {
    "state": {},
    "version_major": 2,
    "version_minor": 0
   }
  }
 },
 "nbformat": 4,
 "nbformat_minor": 4
}
