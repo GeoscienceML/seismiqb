{
 "cells": [
  {
   "cell_type": "code",
   "execution_count": null,
   "metadata": {},
   "outputs": [],
   "source": [
    "# This notebook contains tests for the `SeismicGeometry` in specific data format\n",
    "# Data format is specified with the `FORMAT` parameter in the cell number 2\n",
    "# Note that `FORMAT` must be one of available `SeismicGeometry` data formats\n",
    "import os\n",
    "import sys\n",
    "import warnings\n",
    "warnings.filterwarnings('ignore')\n",
    "\n",
    "import numpy as np\n",
    "\n",
    "sys.path.insert(0, '../../../seismiqb')\n",
    "\n",
    "from seismiqb import Geometry"
   ]
  },
  {
   "cell_type": "code",
   "execution_count": null,
   "metadata": {
    "tags": []
   },
   "outputs": [],
   "source": [
    "\"\"\" You should pay attention to the following parameters:\n",
    "\n",
    "FORMAT : str\n",
    "    `SeismicGeometry` file format. Possible options are: 'sgy', 'hdf5', 'qhdf5', 'blosc', 'qblosc'.\n",
    "CUBE_PATH : str\n",
    "    Path to an existed seismic cube.\n",
    "DATA_PATH : str\n",
    "    Path to an original data array.\n",
    "    It is a path to a file in 'npy', 'sgy', 'hdf5' or 'qhdf5' data format.\n",
    "    \n",
    "Note, this notebook runs tests only for a specified data format.\n",
    "\"\"\"\n",
    "# Tests parameters\n",
    "FORMAT = 'sgy'\n",
    "\n",
    "OUTPUT_DIR = './geometry_test_files'\n",
    "CUBE_PATH = os.path.join(OUTPUT_DIR, f'test_cube.{FORMAT}')\n",
    "DATA_PATH = os.path.join(OUTPUT_DIR, 'test_array.npy')\n",
    "\n",
    "ATTRIBUTES_NAMES = ['snr', 'std_matrix']\n",
    "\n",
    "LOAD_N_SLIDE = 10\n",
    "LOAD_N_CROP = 5\n",
    "\n",
    "BENCHMARK_N_SLIDES = 1000\n",
    "BENCHMARK_N_CROPS = 300\n",
    "\n",
    "SEED = 42\n",
    "\n",
    "# Visualization parameters\n",
    "SCALE = 1\n",
    "SHOW_FIGURES = True\n",
    "\n",
    "# Output parameters\n",
    "VERBOSE = True"
   ]
  },
  {
   "cell_type": "code",
   "execution_count": null,
   "metadata": {},
   "outputs": [],
   "source": [
    "# Geometry original data (to check data consistency)\n",
    "if DATA_PATH.split('.')[-1] == 'npy':\n",
    "    with open(DATA_PATH, 'rb') as infile:\n",
    "        data_array = np.load(infile)\n",
    "else:\n",
    "    geometry_data = Geometry.new(DATA_PATH)\n",
    "    data_array = geometry_data[:, :, :]\n",
    "\n",
    "rng = np.random.default_rng(SEED)"
   ]
  },
  {
   "cell_type": "markdown",
   "metadata": {},
   "source": [
    "# Tests"
   ]
  },
  {
   "cell_type": "code",
   "execution_count": null,
   "metadata": {},
   "outputs": [],
   "source": [
    "%%time\n",
    "geometry = Geometry.new(CUBE_PATH)"
   ]
  },
  {
   "cell_type": "code",
   "execution_count": null,
   "metadata": {
    "tags": []
   },
   "outputs": [],
   "source": [
    "# Check data\n",
    "geometry_data = geometry[:, :, :]\n",
    "\n",
    "if not geometry.quantized:\n",
    "    error_msg = \"Check saved and loaded data failed: data is not the same\"\n",
    "    assert np.array_equal(geometry_data, data_array), error_msg\n",
    "else:\n",
    "    corr = np.corrcoef(geometry_data.ravel(), data_array.ravel())[0, 1]\n",
    "\n",
    "    error_msg = \"Check saved and loaded data failed: data is not correlated\"\n",
    "    assert corr >= 0.9, error_msg"
   ]
  },
  {
   "cell_type": "code",
   "execution_count": null,
   "metadata": {},
   "outputs": [],
   "source": [
    "# Attributes loading\n",
    "\n",
    "for attribute_name in ATTRIBUTES_NAMES:\n",
    "    # `__getattr__` test\n",
    "    attribute = geometry.__getattr__(key=attribute_name)\n",
    "\n",
    "    error_msg = f\"Attributes loading test failed: can't load the `{attribute_name}` with the `__gettattr__` method\"\n",
    "    assert attribute is not None, error_msg\n",
    "\n",
    "    # `load_attribute` test\n",
    "    attribute = geometry.load_attribute(src=attribute_name)\n",
    "\n",
    "    error_msg = f\"Attributes loading test failed: can't load the `{attribute_name}` with the `load_attribute` method\"\n",
    "    assert attribute is not None, error_msg\n",
    "\n",
    "    if VERBOSE:\n",
    "        print(f\"Attribute `{attribute_name}` was successfully loaded\")"
   ]
  },
  {
   "cell_type": "code",
   "execution_count": null,
   "metadata": {
    "tags": []
   },
   "outputs": [],
   "source": [
    "# Slides loading\n",
    "for axis in range(2):\n",
    "    for _ in range(LOAD_N_SLIDE):\n",
    "        index = rng.integers(geometry.shape[axis])\n",
    "        data_slice = (*[slice(None) for i in range(axis)], index)\n",
    "\n",
    "        geometry_slide = geometry.load_slide(index=index, axis=axis)\n",
    "        data_slide = data_array[data_slice]\n",
    "\n",
    "        if not geometry.quantized:\n",
    "            error_msg = f\"Slide loading test failed: axis={axis}, index={index}.\"\n",
    "            assert np.array_equal(geometry_slide, data_slide), error_msg\n",
    "        else:\n",
    "            corr = np.corrcoef(geometry_slide.ravel(), data_slide.ravel())[0, 1]\n",
    "\n",
    "            error_msg = f\"Slide loading test failed: axis={axis}, index={index}.\"\n",
    "            assert corr >= 0.9, error_msg"
   ]
  },
  {
   "cell_type": "code",
   "execution_count": null,
   "metadata": {
    "tags": []
   },
   "outputs": [],
   "source": [
    "# Crops loading\n",
    "for _ in range(LOAD_N_CROP):\n",
    "    point = rng.integers(geometry.shape) // 2\n",
    "    shape = rng.integers((5, 5, 5), high=(200, 200, 200))\n",
    "\n",
    "    locations = [slice(start_, np.clip(start_ + shape_, 0, max_shape))\n",
    "                 for start_, shape_, max_shape in zip(point, shape, geometry.shape)]\n",
    "\n",
    "    geometry_crop = geometry.load_crop(locations=locations)\n",
    "    data_crop = data_array[tuple(locations)]\n",
    "\n",
    "    if not geometry.quantized:\n",
    "        error_msg = f\"Crop loading test failed: locations={locations}.\"\n",
    "        assert np.array_equal(geometry_crop, data_crop), error_msg\n",
    "    else:\n",
    "        corr = np.corrcoef(geometry_crop.ravel(), data_crop.ravel())[0, 1]\n",
    "\n",
    "        error_msg = f\"Crop loading test failed: locations={locations}.\"\n",
    "        assert corr >= 0.9, error_msg"
   ]
  },
  {
   "cell_type": "code",
   "execution_count": null,
   "metadata": {
    "tags": []
   },
   "outputs": [],
   "source": [
    "# Visualizations\n",
    "axis = rng.integers(3)\n",
    "index = rng.integers(geometry.shape[axis])\n",
    "\n",
    "geometry.show_slide(index=index, axis=axis, scale=SCALE, show=SHOW_FIGURES)\n",
    "geometry.show_histogram(hist_log=True, scale=SCALE, show=SHOW_FIGURES)\n",
    "\n",
    "geometry.show(matrix='mean_matrix', scale=SCALE, show=SHOW_FIGURES)\n",
    "geometry.show(matrix='snr', scale=SCALE, show=SHOW_FIGURES)"
   ]
  },
  {
   "cell_type": "code",
   "execution_count": null,
   "metadata": {
    "tags": []
   },
   "outputs": [],
   "source": [
    "# Timings\n",
    "timings = geometry.benchmark(n_slides=BENCHMARK_N_SLIDES, n_crops=BENCHMARK_N_CROPS, seed=SEED)\n",
    "\n",
    "for obj, obj_timings in timings.items():\n",
    "    for timing_name, timing in obj_timings.items():\n",
    "        timings[obj][timing_name] = round(timing, 3)\n",
    "\n",
    "timings = {FORMAT.upper(): timings}\n",
    "timings"
   ]
  }
 ],
 "metadata": {
  "kernelspec": {
   "display_name": "Python 3 (ipykernel)",
   "language": "python",
   "name": "python3"
  },
  "language_info": {
   "codemirror_mode": {
    "name": "ipython",
    "version": 3
   },
   "file_extension": ".py",
   "mimetype": "text/x-python",
   "name": "python",
   "nbconvert_exporter": "python",
   "pygments_lexer": "ipython3",
   "version": "3.8.10"
  },
  "widgets": {
   "application/vnd.jupyter.widget-state+json": {
    "state": {},
    "version_major": 2,
    "version_minor": 0
   }
  }
 },
 "nbformat": 4,
 "nbformat_minor": 4
}
