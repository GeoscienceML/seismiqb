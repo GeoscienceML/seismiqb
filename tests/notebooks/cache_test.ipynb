{
 "cells": [
  {
   "cell_type": "code",
   "execution_count": null,
   "metadata": {
    "tags": []
   },
   "outputs": [],
   "source": [
    "# This file contains tests for cached methods\n",
    "import sys\n",
    "import gc\n",
    "import warnings\n",
    "warnings.filterwarnings('ignore')\n",
    "\n",
    "import numpy as np\n",
    "\n",
    "sys.path.insert(0, '../../../seismiqb')\n",
    "sys.path.insert(0, '../../../batchflow')\n",
    "\n",
    "from seismiqb import Field, Horizon, Geometry\n",
    "from seismiqb import GlobalCache"
   ]
  },
  {
   "cell_type": "code",
   "execution_count": null,
   "metadata": {
    "tags": []
   },
   "outputs": [],
   "source": [
    "# Defaults for run this notebook directly\n",
    "# Data paths (note, we use other tests data, no need in data creation)\n",
    "GEOMETRY_PATH = './horizon_test_files/test_cube.sgy'\n",
    "HORIZON_PATH = './horizon_test_files/test_horizon'"
   ]
  },
  {
   "cell_type": "code",
   "execution_count": null,
   "metadata": {
    "tags": []
   },
   "outputs": [],
   "source": [
    "def cached_objects_ids():\n",
    "    \"\"\" Get ids of instances which use cache. \"\"\"\n",
    "    return [id(x) for x in GlobalCache.instances_with_cache]"
   ]
  },
  {
   "cell_type": "code",
   "execution_count": null,
   "metadata": {
    "tags": []
   },
   "outputs": [],
   "source": [
    "# Import stage check\n",
    "assert len(GlobalCache.cache_references) != 0, 'Cache references weren\\'t saved on import stage!'\n",
    "assert len(GlobalCache.instances_with_cache) == 0, 'GlobalCache must be empty!'"
   ]
  },
  {
   "cell_type": "markdown",
   "metadata": {},
   "source": [
    "# Geometry tests"
   ]
  },
  {
   "cell_type": "code",
   "execution_count": null,
   "metadata": {
    "tags": []
   },
   "outputs": [],
   "source": [
    "%%time\n",
    "# Initialize geometry\n",
    "geometry = Geometry.new(GEOMETRY_PATH)"
   ]
  },
  {
   "cell_type": "code",
   "execution_count": null,
   "metadata": {
    "tags": []
   },
   "outputs": [],
   "source": [
    "%%time\n",
    "# Initialization check\n",
    "# Using cache creates 'cache' attribute, now it doesn't exist, because we doesn't use cache\n",
    "assert id(geometry) not in cached_objects_ids(), \"Geometry cache must be disabled by default\"\n",
    "assert not hasattr(geometry, 'cache'), 'Geometry cache must not exist'"
   ]
  },
  {
   "cell_type": "code",
   "execution_count": null,
   "metadata": {
    "tags": []
   },
   "outputs": [],
   "source": [
    "%%time\n",
    "# Load some cached data: by default cache is disabled\n",
    "_ = geometry.load_slide(geometry.shape[0]//10)\n",
    "\n",
    "assert id(geometry) not in cached_objects_ids(), \"Geometry cache must be disabled by default\"\n",
    "assert not hasattr(geometry, 'cache'), 'Geometry cache must not exist'"
   ]
  },
  {
   "cell_type": "code",
   "execution_count": null,
   "metadata": {
    "tags": []
   },
   "outputs": [],
   "source": [
    "%%time\n",
    "# Enable cache and load some cached data\n",
    "geometry.enable_cache()\n",
    "\n",
    "_ = geometry.load_slide(geometry.shape[0]//10)\n",
    "\n",
    "assert id(geometry) in cached_objects_ids(), 'Geometry object must have cached data'\n",
    "assert geometry.cache_size > 0, 'Geometry object must have cached data'"
   ]
  },
  {
   "cell_type": "code",
   "execution_count": null,
   "metadata": {
    "tags": []
   },
   "outputs": [],
   "source": [
    "%%time\n",
    "# Load more slides: they must be saved in cache while maxsize is not reached\n",
    "maxsize = GlobalCache.cache_references['Geometry.load_slide_cached'].maxsize\n",
    "\n",
    "for i in range(maxsize + 1):\n",
    "    _ = geometry.load_slide_cached(i)\n",
    "\n",
    "assert geometry.cache_size == GlobalCache.size == maxsize, \"Invalid cached objects amount\"\n",
    "\n",
    "FIFO_error = \"The first added element wasn\\'t replaced: the FIFO logic broken\"\n",
    "assert geometry.get_cache_repr()['Geometry.load_slide_cached']['arguments'][0]['index'] > 0, FIFO_error"
   ]
  },
  {
   "cell_type": "code",
   "execution_count": null,
   "metadata": {
    "tags": []
   },
   "outputs": [],
   "source": [
    "%%time\n",
    "# Clear cache\n",
    "GlobalCache.reset()\n",
    "\n",
    "assert len(geometry.cache) == geometry.cache_size == GlobalCache.size == 0, 'Cache wasn\\'t properly cleared'"
   ]
  },
  {
   "cell_type": "code",
   "execution_count": null,
   "metadata": {
    "tags": []
   },
   "outputs": [],
   "source": [
    "%%time\n",
    "# Remove geometry object and check reference on it in the GlobalCache\n",
    "geometry_id = id(geometry)\n",
    "\n",
    "assert geometry_id in cached_objects_ids(), 'Geometry object must be saved in the GlobalCache'\n",
    "\n",
    "del geometry\n",
    "gc.collect()\n",
    "\n",
    "assert geometry_id not in cached_objects_ids(), 'Broken reference on unexisted object in the GlobalCache'"
   ]
  },
  {
   "cell_type": "code",
   "execution_count": null,
   "metadata": {
    "tags": []
   },
   "outputs": [],
   "source": [
    "# Check that GlobalCcahe was cleared after geometry tests\n",
    "assert len(GlobalCache.instances_with_cache) == 0, 'GlobalCache wasn\\'t cleared'"
   ]
  },
  {
   "cell_type": "markdown",
   "metadata": {},
   "source": [
    "# Horizon tests"
   ]
  },
  {
   "cell_type": "markdown",
   "metadata": {},
   "source": [
    "## Data loading"
   ]
  },
  {
   "cell_type": "code",
   "execution_count": null,
   "metadata": {
    "tags": []
   },
   "outputs": [],
   "source": [
    "%%time\n",
    "field = Field(geometry=GEOMETRY_PATH)\n",
    "horizon = Horizon(storage=HORIZON_PATH, field=field)"
   ]
  },
  {
   "cell_type": "code",
   "execution_count": null,
   "metadata": {
    "tags": []
   },
   "outputs": [],
   "source": [
    "%%time\n",
    "# Initialization check\n",
    "# Using cache creates 'cache' attribute, now it doesn't exist, because we doesn't use cache\n",
    "assert id(horizon) not in cached_objects_ids(), \"Horizon cache must be disabled by default\"\n",
    "assert not hasattr(horizon, 'cache'), 'Horizon cache must not exist'"
   ]
  },
  {
   "cell_type": "markdown",
   "metadata": {},
   "source": [
    "## Cache manipulations checks"
   ]
  },
  {
   "cell_type": "code",
   "execution_count": null,
   "metadata": {
    "tags": []
   },
   "outputs": [],
   "source": [
    "%%time\n",
    "# Cached property check\n",
    "_ = horizon.binary_matrix\n",
    "\n",
    "horizon_cache_size = np.sum([len(x) for x in horizon.cache.values()])\n",
    "\n",
    "assert horizon_cache_size == horizon.cache_size == 1, 'Invalid cache length for the object with one cached property'\n",
    "\n",
    "assert len(GlobalCache.instances_with_cache) == 1, 'There is must be one reference on instance in the Global cache'\n",
    "\n",
    "assert id(list(GlobalCache.instances_with_cache)[0]) == id(horizon), 'GlobalCache has invalid instance reference'"
   ]
  },
  {
   "cell_type": "code",
   "execution_count": null,
   "metadata": {
    "tags": []
   },
   "outputs": [],
   "source": [
    "%%time\n",
    "# Check reset cache for object\n",
    "horizon.reset_cache()\n",
    "\n",
    "assert len(horizon.cache) == horizon.cache_size == GlobalCache.size == 0, 'Cache wasn\\'t cleared'"
   ]
  },
  {
   "cell_type": "code",
   "execution_count": null,
   "metadata": {
    "tags": []
   },
   "outputs": [],
   "source": [
    "%%time\n",
    "# Cached object check\n",
    "_ = horizon.get_fourier_decomposition()\n",
    "\n",
    "assert horizon.cache_size == GlobalCache.size > 0, 'Invalid cache length'"
   ]
  },
  {
   "cell_type": "code",
   "execution_count": null,
   "metadata": {
    "tags": []
   },
   "outputs": [],
   "source": [
    "%%time\n",
    "# Check global reset cache\n",
    "GlobalCache.reset()\n",
    "\n",
    "assert len(horizon.cache) == horizon.cache_size == GlobalCache.size == 0, 'Cache wasn\\'t cleared'"
   ]
  },
  {
   "cell_type": "markdown",
   "metadata": {
    "execution": {
     "iopub.execute_input": "2022-10-21T15:57:38.101160Z",
     "iopub.status.busy": "2022-10-21T15:57:38.100627Z",
     "iopub.status.idle": "2022-10-21T15:57:38.103736Z",
     "shell.execute_reply": "2022-10-21T15:57:38.103306Z",
     "shell.execute_reply.started": "2022-10-21T15:57:38.101122Z"
    }
   },
   "source": [
    "## Remove instances"
   ]
  },
  {
   "cell_type": "code",
   "execution_count": null,
   "metadata": {},
   "outputs": [],
   "source": [
    "%%time\n",
    "# Check cache removal after object deletion\n",
    "horizon_id = id(horizon)\n",
    "\n",
    "assert horizon_id in cached_objects_ids(), 'Object haven\\'t cache'\n",
    "\n",
    "del horizon\n",
    "gc.collect()\n",
    "\n",
    "assert horizon_id not in cached_objects_ids(), 'Broken reference in the GlobalCache'"
   ]
  },
  {
   "cell_type": "markdown",
   "metadata": {},
   "source": [
    "## Multiple cached instances check"
   ]
  },
  {
   "cell_type": "code",
   "execution_count": null,
   "metadata": {},
   "outputs": [],
   "source": [
    "%%time\n",
    "horizon_1 = Horizon(storage=HORIZON_PATH, field=field)\n",
    "horizon_2 = Horizon(storage=HORIZON_PATH, field=field)\n",
    "\n",
    "_ = horizon_1.binary_matrix\n",
    "_ = horizon_2.get_fourier_decomposition()\n",
    "\n",
    "assert len(GlobalCache.instances_with_cache) == 2, 'Broken references in the GlobalCache'\n",
    "assert horizon_1.cache_size + horizon_2.cache_size == GlobalCache.size > 0, 'Invalid cache length'"
   ]
  },
  {
   "cell_type": "code",
   "execution_count": null,
   "metadata": {},
   "outputs": [],
   "source": [
    "# Check cache representation call\n",
    "_ = display(horizon_1.cache_repr), display(horizon_2.cache_repr), display(GlobalCache.repr)"
   ]
  },
  {
   "cell_type": "code",
   "execution_count": null,
   "metadata": {
    "tags": []
   },
   "outputs": [],
   "source": [
    "%%time\n",
    "# Clear one object cache\n",
    "horizon_1.reset_cache()\n",
    "\n",
    "assert len(horizon_1.cache) == 0, 'Cache wasn\\'t cleared'\n",
    "assert horizon_2.cache_size == GlobalCache.size > 0, 'Invalid cache length'\n",
    "\n",
    "# Return cache to the previous state for next tests\n",
    "_ = horizon_1.binary_matrix"
   ]
  },
  {
   "cell_type": "code",
   "execution_count": null,
   "metadata": {
    "tags": []
   },
   "outputs": [],
   "source": [
    "%%time\n",
    "# Clear global cache\n",
    "GlobalCache.reset()\n",
    "\n",
    "assert horizon_1.cache_size == horizon_2.cache_size == GlobalCache.size == 0, 'Cache wasn\\'t cleared'\n",
    "\n",
    "# Return cache to the previous state for next tests\n",
    "_ = horizon_1.binary_matrix\n",
    "_ = horizon_2.get_fourier_decomposition()"
   ]
  },
  {
   "cell_type": "code",
   "execution_count": null,
   "metadata": {
    "tags": []
   },
   "outputs": [],
   "source": [
    "%%time\n",
    "# Check cache removal after object deletion\n",
    "horizon_id_to_remove = id(horizon_1)\n",
    "\n",
    "assert horizon_id_to_remove in cached_objects_ids(), 'Object hasn\\'t cache'\n",
    "\n",
    "del horizon_1\n",
    "gc.collect()\n",
    "\n",
    "assert horizon_id_to_remove not in cached_objects_ids(), 'Broken reference in the GlobalCache'"
   ]
  },
  {
   "cell_type": "code",
   "execution_count": null,
   "metadata": {
    "tags": []
   },
   "outputs": [],
   "source": [
    "# Clear cache\n",
    "del horizon_2\n",
    "gc.collect()\n",
    "\n",
    "assert len(GlobalCache.instances_with_cache) == 0, 'Cache wasn\\'t properly cleared'"
   ]
  },
  {
   "cell_type": "markdown",
   "metadata": {
    "execution": {
     "iopub.execute_input": "2022-11-11T09:57:27.802732Z",
     "iopub.status.busy": "2022-11-11T09:57:27.802271Z",
     "iopub.status.idle": "2022-11-11T09:57:27.807968Z",
     "shell.execute_reply": "2022-11-11T09:57:27.806958Z",
     "shell.execute_reply.started": "2022-11-11T09:57:27.802681Z"
    }
   },
   "source": [
    "# Field"
   ]
  },
  {
   "cell_type": "code",
   "execution_count": null,
   "metadata": {
    "tags": []
   },
   "outputs": [],
   "source": [
    "field.load_labels(labels=HORIZON_PATH, labels_class='horizon')\n",
    "\n",
    "assert len(field.attached_instances) == 1, 'Horizon wasn\\'t loaded'"
   ]
  },
  {
   "cell_type": "code",
   "execution_count": null,
   "metadata": {
    "tags": []
   },
   "outputs": [],
   "source": [
    "# Load cached data and check field and global cache\n",
    "_ = field.attached_instances[0].binary_matrix\n",
    "_ = field.geometry.load_slide_cached(field.shape[0]//10)\n",
    "\n",
    "assert field.cache_nbytes == GlobalCache.nbytes > 0, 'Invalid cache size'"
   ]
  },
  {
   "cell_type": "code",
   "execution_count": null,
   "metadata": {
    "tags": []
   },
   "outputs": [],
   "source": [
    "# Check cache reset\n",
    "field.reset_cache()\n",
    "\n",
    "assert field.cache_nbytes == GlobalCache.nbytes == 0, 'Cache wasn\\'t cleared'"
   ]
  }
 ],
 "metadata": {
  "kernelspec": {
   "display_name": "Python 3 (ipykernel)",
   "language": "python",
   "name": "python3"
  },
  "language_info": {
   "codemirror_mode": {
    "name": "ipython",
    "version": 3
   },
   "file_extension": ".py",
   "mimetype": "text/x-python",
   "name": "python",
   "nbconvert_exporter": "python",
   "pygments_lexer": "ipython3",
   "version": "3.8.10"
  },
  "widgets": {
   "application/vnd.jupyter.widget-state+json": {
    "state": {
     "4cedc8ae223640208a0acdf8b338aa47": {
      "model_module": "@jupyter-widgets/base",
      "model_module_version": "1.2.0",
      "model_name": "LayoutModel",
      "state": {}
     },
     "fc0453b4076f4f98bebbe970aa8ac2e5": {
      "model_module": "@jupyter-widgets/output",
      "model_module_version": "1.0.0",
      "model_name": "OutputModel",
      "state": {
       "layout": "IPY_MODEL_4cedc8ae223640208a0acdf8b338aa47"
      }
     }
    },
    "version_major": 2,
    "version_minor": 0
   }
  }
 },
 "nbformat": 4,
 "nbformat_minor": 4
}
