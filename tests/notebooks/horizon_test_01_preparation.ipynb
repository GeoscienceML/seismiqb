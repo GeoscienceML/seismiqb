{
 "cells": [
  {
   "cell_type": "code",
   "execution_count": null,
   "metadata": {},
   "outputs": [],
   "source": [
    "# This notebook contains preparation for Horizon tests\n",
    "# It creates and saves a fake cube with a horizon\n",
    "import os\n",
    "import sys\n",
    "import shutil\n",
    "import warnings\n",
    "import numpy as np\n",
    "\n",
    "warnings.filterwarnings('ignore')\n",
    "\n",
    "sys.path.insert(0, '../../../seismiqb')\n",
    "sys.path.insert(0, '..')\n",
    "\n",
    "from seismiqb import Horizon, Field, array_to_segy\n",
    "from utils import generate_synthetic"
   ]
  },
  {
   "cell_type": "code",
   "execution_count": null,
   "metadata": {},
   "outputs": [],
   "source": [
    "\"\"\" You can manage notebook execution kwargs which relates to cube and horizon for the test:\n",
    "\n",
    "SYNTHETIC_MODE : bool\n",
    "    Whether to create a synthetic data (cube and horizon) or use existed, provided by paths.\n",
    "CUBE_PATH : str or None\n",
    "    Path to an existed seismic cube.\n",
    "    Notice that it is only used with SYNTHETIC_MODE = False.\n",
    "HORIZON_PATH : str or None\n",
    "    Path to an existed seismic horizon.\n",
    "    Notice that it is only used with SYNTHETIC_MODE = False.\n",
    "CUBE_SHAPE : sequence of three integers\n",
    "    Shape of a synthetic cube.\n",
    "\"\"\"\n",
    "# Synthetic creation parameters\n",
    "SYNTHETIC_MODE = True\n",
    "CUBE_PATH = None\n",
    "HORIZON_PATH = None\n",
    "CUBE_SHAPE = (500, 500, 200)\n",
    "\n",
    "# Visualization parameters\n",
    "SCALE = 1\n",
    "SHOW_FIGURES = True"
   ]
  },
  {
   "cell_type": "markdown",
   "metadata": {},
   "source": [
    "# Prepare a workspace\n",
    "\n",
    "Create directories for files and create a fake cube with horizons and save cube and one horizon.\n",
    "\n",
    "**Storage structure:**\n",
    "___\n",
    "\n",
    "\n",
    "\n",
    "**horizon_test_files** (horizon tests directory with temporary files)\n",
    "\n",
    "&emsp;├── **test_cube.sgy**\n",
    "\n",
    "&emsp;├── **test_cube.meta**\n",
    "    \n",
    "&emsp;└── **test_horizon**\n"
   ]
  },
  {
   "cell_type": "code",
   "execution_count": null,
   "metadata": {},
   "outputs": [],
   "source": [
    "OUTPUT_DIR = './horizon_test_files'\n",
    "\n",
    "# (Re)create the test directory\n",
    "if os.path.exists(OUTPUT_DIR):\n",
    "    shutil.rmtree(OUTPUT_DIR)\n",
    "\n",
    "os.makedirs(OUTPUT_DIR)"
   ]
  },
  {
   "cell_type": "markdown",
   "metadata": {},
   "source": [
    "# Create a fake cube and a fake horizon"
   ]
  },
  {
   "cell_type": "code",
   "execution_count": null,
   "metadata": {
    "tags": []
   },
   "outputs": [],
   "source": [
    "%%time\n",
    "if SYNTHETIC_MODE:\n",
    "    CUBE_PATH = os.path.join(OUTPUT_DIR, 'test_cube.sgy')\n",
    "    HORIZON_PATH = os.path.join(OUTPUT_DIR, 'test_horizon')\n",
    "\n",
    "    # Create a cube and a horizon\n",
    "    synt3d, horizon_matrix, _ = generate_synthetic(shape=CUBE_SHAPE)\n",
    "\n",
    "    # Create zero traces in the cube\n",
    "    FILL_VALUE = -999999\n",
    "    points = (slice(0, CUBE_SHAPE[0]//10, None),\n",
    "              slice(CUBE_SHAPE[0]//10, CUBE_SHAPE[0]//5, None))\n",
    "\n",
    "    synt3d[points] = FILL_VALUE\n",
    "    horizon_matrix[points[:2]] = FILL_VALUE\n",
    "\n",
    "    # Dump data\n",
    "    array_to_segy(synt3d, CUBE_PATH, zip_segy=False)\n",
    "\n",
    "    # Check cube\n",
    "    field = Field(CUBE_PATH)\n",
    "\n",
    "    geometry_loading_error = \"Synthetic geometry creation error: saved and loaded data are different\"\n",
    "    assert np.allclose(field.geometry[:, :, :], synt3d), geometry_loading_error\n",
    "\n",
    "    # Choose one horizon and save it\n",
    "    horizon = Horizon(horizon_matrix, field=field, name='test')\n",
    "    horizon.dump(HORIZON_PATH)\n",
    "\n",
    "    # Check horizon\n",
    "    opened_horizon = Horizon(HORIZON_PATH, field=field)\n",
    "\n",
    "    horizon_loading_error = \"Synthetic horizon creation error: saved and loaded data are different\"\n",
    "    assert np.array_equal(horizon.full_matrix, opened_horizon.full_matrix), horizon_loading_error\n",
    "    assert np.array_equal(horizon.points, opened_horizon.points), horizon_loading_error\n",
    "\n",
    "    opened_horizon.filter()\n",
    "    opened_horizon.show(show=SHOW_FIGURES, scale=SCALE)"
   ]
  }
 ],
 "metadata": {
  "kernelspec": {
   "display_name": "Python 3 (ipykernel)",
   "language": "python",
   "name": "python3"
  },
  "language_info": {
   "codemirror_mode": {
    "name": "ipython",
    "version": 3
   },
   "file_extension": ".py",
   "mimetype": "text/x-python",
   "name": "python",
   "nbconvert_exporter": "python",
   "pygments_lexer": "ipython3",
   "version": "3.8.10"
  },
  "widgets": {
   "application/vnd.jupyter.widget-state+json": {
    "state": {},
    "version_major": 2,
    "version_minor": 0
   }
  }
 },
 "nbformat": 4,
 "nbformat_minor": 4
}
