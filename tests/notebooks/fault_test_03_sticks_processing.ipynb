{
 "cells": [
  {
   "cell_type": "code",
   "execution_count": null,
   "metadata": {
    "tags": []
   },
   "outputs": [],
   "source": [
    "# Tests for base Fault functionality: initialization, dumping, visualizations, etc.\n",
    "%load_ext autoreload\n",
    "%autoreload 2\n",
    "\n",
    "import os\n",
    "import sys\n",
    "import warnings\n",
    "import numpy as np\n",
    "\n",
    "warnings.filterwarnings('ignore')\n",
    "\n",
    "sys.path.insert(0, '../../../seismiqb')\n",
    "\n",
    "from seismiqb import Field, Fault"
   ]
  },
  {
   "cell_type": "code",
   "execution_count": null,
   "metadata": {
    "tags": []
   },
   "outputs": [],
   "source": [
    "\"\"\" You can manage cube and fault for the test:\n",
    "\n",
    "CUBE_PATH : str\n",
    "    Path to an existed seismic cube.\n",
    "FAULT_PATH : str\n",
    "    Path to an existed seismic fault.\n",
    "\"\"\"\n",
    "# Tests parameters\n",
    "OUTPUT_DIR = './fault_test_files'\n",
    "\n",
    "CUBE_PATH = os.path.join(OUTPUT_DIR, 'test_cube.sgy')\n",
    "FAULT_PATH = os.path.join(OUTPUT_DIR, 'test_fault')\n",
    "\n",
    "# Visualization parameters\n",
    "SHOW_FIGURES = True"
   ]
  },
  {
   "cell_type": "markdown",
   "metadata": {},
   "source": [
    "# Initialization"
   ]
  },
  {
   "cell_type": "code",
   "execution_count": null,
   "metadata": {
    "tags": []
   },
   "outputs": [],
   "source": [
    "%%time\n",
    "\n",
    "# ilines sticks\n",
    "field = Field(CUBE_PATH)\n",
    "\n",
    "sticks = np.array([\n",
    "    [[100, 100, 25],\n",
    "     [100, 130, 175]],\n",
    "    [[120, 100, 25],\n",
    "     [120, 130, 175]],\n",
    "    [[140, 100, 55],\n",
    "     [140, 130, 200]]\n",
    "])\n",
    "\n",
    "fault = Fault({'sticks': sticks}, field=field, name='tmp')\n",
    "\n",
    "assert fault.direction == 0, f\"wrong fault direction\"\n",
    "assert (fault.sticks == sticks).all(), f\"sticks are not the same\""
   ]
  },
  {
   "cell_type": "code",
   "execution_count": null,
   "metadata": {
    "tags": []
   },
   "outputs": [],
   "source": [
    "fault.show_3d(sticks=True, show=SHOW_FIGURES)"
   ]
  },
  {
   "cell_type": "code",
   "execution_count": null,
   "metadata": {
    "tags": []
   },
   "outputs": [],
   "source": [
    "%%time\n",
    "# crosslines sticks\n",
    "\n",
    "sticks_2 = sticks[:, :, [1, 0, 2]]\n",
    "\n",
    "fault = Fault({'sticks': sticks_2}, field=field, name='tmp')\n",
    "\n",
    "assert fault.direction == 1, f\"wrong fault direction\"\n",
    "assert (fault.sticks == sticks_2).all(), f\"sticks are not the same\""
   ]
  },
  {
   "cell_type": "code",
   "execution_count": null,
   "metadata": {
    "tags": []
   },
   "outputs": [],
   "source": [
    "fault.show_3d(sticks=True, show=SHOW_FIGURES)"
   ]
  },
  {
   "cell_type": "code",
   "execution_count": null,
   "metadata": {
    "tags": []
   },
   "outputs": [],
   "source": [
    "%%time\n",
    "# mixed sticks\n",
    "\n",
    "sticks = np.array([\n",
    "    [[100, 100, 25],\n",
    "     [100, 100, 175]],\n",
    "    [[200, 100, 25],\n",
    "     [220, 130, 175]],\n",
    "    [[200, 200, 55],\n",
    "     [200, 200, 200]]\n",
    "])\n",
    "\n",
    "fault = Fault({'sticks': sticks}, field=field, name='tmp')\n",
    "\n",
    "fault.show_3d(sticks=True, show=SHOW_FIGURES)\n",
    "\n",
    "assert (fault.sticks == sticks).all(), f\"sticks are not the same\""
   ]
  },
  {
   "cell_type": "code",
   "execution_count": null,
   "metadata": {
    "tags": []
   },
   "outputs": [],
   "source": [
    "%%time\n",
    "# mixed sticks\n",
    "\n",
    "sticks = [\n",
    "    [[100, 100, 25],\n",
    "     [100, 100, 175],\n",
    "     [100, 200, 175]\n",
    "    ],\n",
    "    [[200, 100, 25],\n",
    "     [220, 130, 175]],\n",
    "    [[200, 200, 55],\n",
    "     [200, 200, 200]]\n",
    "]\n",
    "\n",
    "sticks = [np.array(item) for item in sticks]\n",
    "\n",
    "fault = Fault({'sticks': sticks}, field=field, name='tmp')\n",
    "\n",
    "fault.show_3d(sticks=False, show=SHOW_FIGURES)\n",
    "\n",
    "assert (fault.sticks == sticks), f\"sticks are not the same\""
   ]
  },
  {
   "cell_type": "code",
   "execution_count": null,
   "metadata": {
    "tags": []
   },
   "outputs": [],
   "source": [
    "# sticks on bounds\n",
    "\n",
    "sticks = np.array([\n",
    "    [[0, 100, 25],\n",
    "     [0, 100, 175]\n",
    "    ],\n",
    "    [[100, 0, 25],\n",
    "     [100, 0, 175]\n",
    "    ],\n",
    "    [[field.shape[0]-1, 100, 25],\n",
    "     [field.shape[0]-1, 100, 175]\n",
    "    ],\n",
    "    [[100, field.shape[1]-1, 25],\n",
    "     [100, field.shape[1]-1, 175]\n",
    "    ],    \n",
    "])"
   ]
  },
  {
   "cell_type": "code",
   "execution_count": null,
   "metadata": {
    "tags": []
   },
   "outputs": [],
   "source": [
    "fault = Fault({'sticks': sticks}, field=field, name='tmp')"
   ]
  },
  {
   "cell_type": "code",
   "execution_count": null,
   "metadata": {
    "tags": []
   },
   "outputs": [],
   "source": [
    "fault.show_3d(show=SHOW_FIGURES)"
   ]
  }
 ],
 "metadata": {
  "kernelspec": {
   "display_name": "Python 3 (ipykernel)",
   "language": "python",
   "name": "python3"
  },
  "language_info": {
   "codemirror_mode": {
    "name": "ipython",
    "version": 3
   },
   "file_extension": ".py",
   "mimetype": "text/x-python",
   "name": "python",
   "nbconvert_exporter": "python",
   "pygments_lexer": "ipython3",
   "version": "3.8.16"
  },
  "widgets": {
   "application/vnd.jupyter.widget-state+json": {
    "state": {},
    "version_major": 2,
    "version_minor": 0
   }
  }
 },
 "nbformat": 4,
 "nbformat_minor": 4
}
