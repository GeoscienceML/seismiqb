{
 "cells": [
  {
   "cell_type": "code",
   "execution_count": null,
   "metadata": {
    "tags": []
   },
   "outputs": [],
   "source": [
    "# This notebook consists of actions for preparation for `SeismicGeometry` tests\n",
    "# It creates a fake cube as random noise and convert it into available data formats\n",
    "import os\n",
    "import sys\n",
    "import shutil\n",
    "import warnings\n",
    "warnings.filterwarnings('ignore')\n",
    "\n",
    "import numpy as np\n",
    "\n",
    "sys.path.insert(0, '../../../seismiqb')\n",
    "\n",
    "from seismiqb import Geometry, array_to_segy"
   ]
  },
  {
   "cell_type": "code",
   "execution_count": null,
   "metadata": {},
   "outputs": [],
   "source": [
    "# Data creation parameters\n",
    "CUBE_SHAPE = (1000, 200, 400)\n",
    "SEED = 42\n",
    "\n",
    "# Data formats for which running tests\n",
    "FORMATS = ['sgy', 'qsgy', 'hdf5', 'qhdf5']"
   ]
  },
  {
   "cell_type": "markdown",
   "metadata": {},
   "source": [
    "# Prepare a workspace\n",
    "\n",
    "Create directories for files and create a fake cube and save it.\n",
    "\n",
    "**Storage structure:**\n",
    "___\n",
    "\n",
    "\n",
    "**geometry_test_files** (geometry tests directory with temporary files)\n",
    "\n",
    "&emsp;├── **test_array.npy**\n",
    "\n",
    "&emsp;└── **test_cube.{DATAFORMAT}**\n",
    "\n",
    "---\n",
    " * **{DATAFORMAT}** means each data format from **FORMATS** list"
   ]
  },
  {
   "cell_type": "code",
   "execution_count": null,
   "metadata": {},
   "outputs": [],
   "source": [
    "OUTPUT_DIR = './geometry_test_files'\n",
    "\n",
    "# (Re)create the test directory\n",
    "if os.path.exists(OUTPUT_DIR):\n",
    "    shutil.rmtree(OUTPUT_DIR)\n",
    "\n",
    "os.makedirs(OUTPUT_DIR)"
   ]
  },
  {
   "cell_type": "markdown",
   "metadata": {},
   "source": [
    "# Create a fake cube"
   ]
  },
  {
   "cell_type": "code",
   "execution_count": null,
   "metadata": {},
   "outputs": [],
   "source": [
    "CUBE_PATH = os.path.join(OUTPUT_DIR, 'test_cube.sgy')\n",
    "\n",
    "rng = np.random.default_rng(SEED)\n",
    "data_array = rng.normal(0, 1000, CUBE_SHAPE).astype(np.float32)\n",
    "\n",
    "with open(os.path.join(OUTPUT_DIR, 'test_array.npy'), 'wb') as outfile:\n",
    "    np.save(outfile, data_array)"
   ]
  },
  {
   "cell_type": "code",
   "execution_count": null,
   "metadata": {
    "tags": []
   },
   "outputs": [],
   "source": [
    "%%time\n",
    "array_to_segy(array_like=data_array, path=CUBE_PATH, zip_segy=False, pbar='t')"
   ]
  },
  {
   "cell_type": "code",
   "execution_count": null,
   "metadata": {},
   "outputs": [],
   "source": [
    "%%time\n",
    "geometry_sgy = Geometry.new(path=CUBE_PATH, collect_stats=True, pbar='t')\n",
    "\n",
    "loading_error = \"Saved and loaded sgy geometry files are different\"\n",
    "assert np.allclose(data_array, geometry_sgy[:, :, :]), loading_error"
   ]
  },
  {
   "cell_type": "markdown",
   "metadata": {},
   "source": [
    "# Check data loading"
   ]
  },
  {
   "cell_type": "code",
   "execution_count": null,
   "metadata": {
    "tags": []
   },
   "outputs": [],
   "source": [
    "%%time\n",
    "geometry_sgy = Geometry.new(path=CUBE_PATH)\n",
    "\n",
    "assert np.allclose(data_array, geometry_sgy[:, :, :]), loading_error"
   ]
  },
  {
   "cell_type": "markdown",
   "metadata": {},
   "source": [
    "# Conversion"
   ]
  },
  {
   "cell_type": "code",
   "execution_count": null,
   "metadata": {
    "tags": []
   },
   "outputs": [],
   "source": [
    "for data_format in FORMATS:\n",
    "    if data_format != 'sgy':\n",
    "        _ = geometry_sgy.convert(format=data_format, quantize=False, store_meta=False, pbar='t')"
   ]
  },
  {
   "cell_type": "markdown",
   "metadata": {},
   "source": [
    "# Create new sgy from array with spec from the existed sgy"
   ]
  },
  {
   "cell_type": "code",
   "execution_count": null,
   "metadata": {
    "tags": []
   },
   "outputs": [],
   "source": [
    "NEW_CUBE_PATH = os.path.join(OUTPUT_DIR, 'test_new_cube.sgy')\n",
    "\n",
    "array = np.random.normal(size=geometry_sgy.shape)\n",
    "array_to_segy(array, NEW_CUBE_PATH, spec=CUBE_PATH, zip_segy=False)\n",
    "new_geometry_sgy = Geometry.new(NEW_CUBE_PATH, collect_stats=True)"
   ]
  },
  {
   "cell_type": "code",
   "execution_count": null,
   "metadata": {
    "tags": []
   },
   "outputs": [],
   "source": [
    "assert geometry_sgy.equal(new_geometry_sgy), 'Unmatching geometries after export'"
   ]
  },
  {
   "cell_type": "markdown",
   "metadata": {},
   "source": [
    "Creation with origin"
   ]
  },
  {
   "cell_type": "code",
   "execution_count": null,
   "metadata": {
    "tags": []
   },
   "outputs": [],
   "source": [
    "NEW_CUBE_PATH = os.path.join(OUTPUT_DIR, 'test_new_cube2.sgy')\n",
    "\n",
    "array = np.random.normal(size=(500, 100, 200))\n",
    "array_to_segy(array, NEW_CUBE_PATH, spec=CUBE_PATH, origin=(5, 10, 15), zip_segy=False)\n",
    "new_geometry_sgy = Geometry.new(NEW_CUBE_PATH, collect_stats=False)\n",
    "\n",
    "assert geometry_sgy.shifts[0] + 5 == new_geometry_sgy.shifts[0], 'Wrong ilines offset'\n",
    "assert geometry_sgy.shifts[1] + 10 == new_geometry_sgy.shifts[1], 'Wrong xlines offset'"
   ]
  },
  {
   "cell_type": "code",
   "execution_count": null,
   "metadata": {
    "tags": []
   },
   "outputs": [],
   "source": [
    "index_headers = ['INLINE_3D', 'CROSSLINE_3D']\n",
    "\n",
    "index_ = new_geometry_sgy.headers.set_index(index_headers).index\n",
    "df = geometry_sgy.headers.set_index(index_headers).loc[index_][['CDP_X', 'CDP_Y']]\n",
    "new_df = new_geometry_sgy.headers.set_index(index_headers)[['CDP_X', 'CDP_Y']]\n",
    "\n",
    "assert (df == new_df).all().all(), 'Unmatched `headers`!'"
   ]
  }
 ],
 "metadata": {
  "kernelspec": {
   "display_name": "Python 3 (ipykernel)",
   "language": "python",
   "name": "python3"
  },
  "language_info": {
   "codemirror_mode": {
    "name": "ipython",
    "version": 3
   },
   "file_extension": ".py",
   "mimetype": "text/x-python",
   "name": "python",
   "nbconvert_exporter": "python",
   "pygments_lexer": "ipython3",
   "version": "3.8.10"
  },
  "widgets": {
   "application/vnd.jupyter.widget-state+json": {
    "state": {},
    "version_major": 2,
    "version_minor": 0
   }
  }
 },
 "nbformat": 4,
 "nbformat_minor": 4
}
